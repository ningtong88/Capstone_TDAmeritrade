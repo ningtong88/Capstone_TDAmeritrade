{
 "cells": [
  {
   "cell_type": "code",
   "execution_count": 6,
   "metadata": {
    "scrolled": true
   },
   "outputs": [],
   "source": [
    "from arch.bootstrap import CircularBlockBootstrap, optimal_block_length\n",
    "import pickle\n",
    "import numpy as np\n",
    "import pandas as pd\n",
    "import matplotlib.pyplot as plt\n",
    "from sklearn.linear_model import LinearRegression\n",
    "from math import log\n",
    "from scipy.stats import boxcox"
   ]
  },
  {
   "cell_type": "code",
   "execution_count": 7,
   "metadata": {},
   "outputs": [],
   "source": [
    "with open('low_var_port.pkl', 'rb') as f: d = pickle.load(f)"
   ]
  },
  {
   "cell_type": "code",
   "execution_count": 24,
   "metadata": {},
   "outputs": [],
   "source": [
    "###Function returns list of days between dividend payouts\n",
    "###Input is series of dividend returns.\n",
    "\n",
    "def days_between_div(dividend_returns):\n",
    "    ls_div_days_between = []\n",
    "    div_cnt = 1\n",
    "    y = np.array(dividend_returns).T\n",
    "    for x in y:\n",
    "        if np.isclose(0, x):\n",
    "            div_cnt += 1\n",
    "        else:\n",
    "            ls_div_days_between.append(div_cnt)\n",
    "            div_cnt = 1\n",
    "    return ls_div_days_between\n",
    "\n",
    "###Function returns list of dividend dates\n",
    "###Input is series of dividend returns.\n",
    "\n",
    "def div_dates(dividend_returns):\n",
    "    div_dates = dividend_returns[dividend_returns > 0].index\n",
    "    return div_dates\n",
    "\n",
    "\n",
    "###Function returns an average return for a period, and standard deviation of returns for a period, list of dividend returns for a period\n",
    "###Input are:\n",
    "###         ls_div  - the days between returns \n",
    "###         returns - dataframe of dividend returns (labeled 'retd') and daily returns (labeled 'retx').\n",
    "\n",
    "def div_to_div_metrics(ls_div_days_between, returns):\n",
    "\n",
    "    div_day_cumsum = np.cumsum(ls_div_days_between)\n",
    "    start = 1\n",
    "    cumret = 0\n",
    "    ls_div_to_div_ret = []\n",
    "    ls_div_ret = []\n",
    "    ls_div_to_div_std = []\n",
    "\n",
    "    for x in div_day_cumsum:\n",
    "        div_to_div_std = np.std((np.array(returns.iloc[start-1:x-1]['retx'])))\n",
    "        div_to_div_ret = (np.array(returns.iloc[start-1:x-1]['retx'])).prod()\n",
    "        div = (returns.iloc[x-1]['retd'])\n",
    "        ls_div_to_div_std.append(div_to_div_std)\n",
    "        ls_div_to_div_ret.append(div_to_div_ret)\n",
    "        ls_div_ret.append(div)\n",
    "        start=x\n",
    "    return ls_div_to_div_ret, ls_div_to_div_std, ls_div_ret\n",
    "\n",
    "###Function returns a sklearn linear regression model to predict the dividend returns.\n",
    "###Input are:\n",
    "###         ls_div_to_div_ret  - list of daily returns between dividends\n",
    "###         ls_div_to_div_std - list of std between dividends\n",
    "###         ls_div_ret - List of dividend returns between dividends\n",
    "\n",
    "def div_predict_linreg(ls_div_to_div_ret,ls_div_to_div_std, ls_div_ret):\n",
    "    X = np.array([ls_div_to_div_ret,ls_div_to_div_std]).T\n",
    "    y=ls_div_ret\n",
    "    reg = LinearRegression().fit(X,y)\n",
    "    return reg\n",
    "\n",
    "###Function returns an (days of returns, 3, total_sim) array that provides a block bootstrap simulation of an assets price, daily returns and dividend returns.\n",
    "###Input are:\n",
    "###         data  - dataframe of price ('prc'), daily returns ('retx'), and dividend returns'retd' over a period time\n",
    "###         ls_div_days_between - provides the number of days between dividend payouts\n",
    "###         block_size - size of the blocks that are taken from the original dataframe\n",
    "###         total_sim - number of samples to run\n",
    "###         random_seed - seed to use for block bootstrap\n",
    "\n",
    "def sim_returns(data, block_size = 20, total_sim = 10, random_seed = 1):\n",
    "    retx_sim = data[data['retd'] == 0]['retx']\n",
    "    rs = np.random.RandomState(random_seed)\n",
    "    retx_sim_mod = CircularBlockBootstrap(20, retx_sim, random_state = rs)\n",
    "    sim = np.zeros((total_sim,len(data), 3))\n",
    "    count = 0\n",
    "    if len(retx_sim) == len(data):\n",
    "        for y in retx_sim_mod.bootstrap(total_sim):\n",
    "            \n",
    "            ls_retx = y[0][0]\n",
    "            ls_retx.index = retx_sim.index\n",
    "            ls_retx = ls_retx.sort_index()\n",
    "            ls_retx[0] = 1\n",
    "            prc = ls_retx*0\n",
    "            prc[0] = data.prc[0]\n",
    "            cum_retx_all = ls_retx[1:].cumprod()\n",
    "            prc[1:] = cum_retx_all * prc[0]\n",
    "            div_pay = ls_retx*0\n",
    "            sim[count,:,:] = np.array([prc,ls_retx,div_pay]).T\n",
    "            count +=1\n",
    "    else:      \n",
    "        ls_div_days_between = days_between_div(data['retd'])\n",
    "        div_day_cumsum = np.cumsum(ls_div_days_between)\n",
    "        ls_div_dt = div_dates(data['retd'])\n",
    "        ls_div_to_div_ret, ls_div_to_div_std, ls_div_ret = div_to_div_metrics(ls_div_days_between, data)\n",
    "        reg = div_predict_linreg(ls_div_to_div_ret,ls_div_to_div_std, ls_div_ret)\n",
    "        for y in retx_sim_mod.bootstrap(total_sim):\n",
    "            ls_retx = y[0][0]\n",
    "            ls_of_div = np.array(data[data['retd'] != 0]['retd'])\n",
    "            ls_of_div_retx = np.array(data[data['retd'] != 0]['retx'])\n",
    "            ls_sim_div = []\n",
    "            ls_retx.index = retx_sim.index\n",
    "            start = 1\n",
    "            for x in range(len(div_day_cumsum)):\n",
    "                cum_retx = np.array(ls_retx[start-1:div_day_cumsum[x]-1]).prod()\n",
    "                cum_std = np.array(ls_retx[start-1:div_day_cumsum[x]-1]).std()\n",
    "                pred_div = reg.predict(np.array([[cum_retx],[cum_std]]).T)\n",
    "                sim_div_idx = min(ls_of_div, key=lambda i:abs(i-pred_div[0]))\n",
    "                sim_rx = ls_of_div_retx[np.where(ls_of_div==sim_div_idx)[0][0]]\n",
    "                ls_retx.loc[ls_div_dt[x]] = sim_rx\n",
    "                ls_sim_div.append(pred_div[0])\n",
    "                \n",
    "            ls_retx = ls_retx.sort_index()\n",
    "            ls_retx[0] = 1\n",
    "            prc = ls_retx*0\n",
    "            prc[0] = data.prc[0]\n",
    "            cum_retx_all = ls_retx[1:].cumprod()\n",
    "            prc[1:] = cum_retx_all * prc[0]\n",
    "            div_pay = ls_retx*0\n",
    "            div_dic = dict(zip(ls_div_dt, ls_sim_div)) \n",
    "            for i in ls_div_dt:\n",
    "                div_pay[i] = div_dic[i]\n",
    "\n",
    "            sim[count,:,:] = np.array([prc,ls_retx,div_pay]).T\n",
    "            count +=1\n",
    "    return sim"
   ]
  },
  {
   "cell_type": "code",
   "execution_count": 25,
   "metadata": {
    "tags": []
   },
   "outputs": [],
   "source": [
    "###Function returns an (days of returns, (3*# of assets), total_sim) array that provides a block bootstrap simulation of all assets price, daily returns and dividend returns.\n",
    "###Input are:\n",
    "###         data  - dataframe of assets with price ('prc'), daily returns ('retx'), and dividend returns ('retd') over a period time. Dataframe must have hierarchical format of Asset -> [prc, retx, retd].\n",
    "###         ls_div_days_between - provides the number of days between dividend payouts\n",
    "###         block_size - size of the blocks that are taken from the original dataframe\n",
    "###         total_sim - number of samples to run\n",
    "###         random_seed - seed to use for block bootstrap\n",
    "\n",
    "def sim_all(data, block_size = 20, total_sim = 10, random_seed = 1):\n",
    "    tickers = []\n",
    "    for x in data.columns:\n",
    "        if x[0] not in tickers:\n",
    "            tickers.append(x[0])\n",
    "    ticker_sim = {}\n",
    "    for tck in tickers:\n",
    "        asset_data = data[tck]\n",
    "        tck_sim = sim_returns(asset_data, block_size = block_size, total_sim = total_sim, random_seed = random_seed)\n",
    "        ticker_sim[tck] = tck_sim\n",
    "    return ticker_sim"
   ]
  },
  {
   "cell_type": "code",
   "execution_count": 26,
   "metadata": {},
   "outputs": [
    {
     "output_type": "execute_result",
     "data": {
      "text/plain": [
       "{'SPY': array([[[1.17419998e+02, 1.00000000e+00, 0.00000000e+00],\n",
       "         [1.17624792e+02, 1.00174412e+00, 0.00000000e+00],\n",
       "         [1.16242381e+02, 9.88247278e-01, 0.00000000e+00],\n",
       "         ...,\n",
       "         [4.21542627e+02, 9.93908933e-01, 0.00000000e+00],\n",
       "         [4.24159608e+02, 1.00620811e+00, 0.00000000e+00],\n",
       "         [4.29601842e+02, 1.01283063e+00, 0.00000000e+00]],\n",
       " \n",
       "        [[1.17419998e+02, 1.00000000e+00, 0.00000000e+00],\n",
       "         [1.18555760e+02, 1.00967264e+00, 0.00000000e+00],\n",
       "         [1.18363553e+02, 9.98378768e-01, 0.00000000e+00],\n",
       "         ...,\n",
       "         [1.72675302e+03, 9.99619489e-01, 0.00000000e+00],\n",
       "         [1.74187452e+03, 1.00875719e+00, 0.00000000e+00],\n",
       "         [1.74463574e+03, 1.00158520e+00, 0.00000000e+00]],\n",
       " \n",
       "        [[1.17419998e+02, 1.00000000e+00, 0.00000000e+00],\n",
       "         [1.17899426e+02, 1.00408302e+00, 0.00000000e+00],\n",
       "         [1.18740465e+02, 1.00713353e+00, 0.00000000e+00],\n",
       "         ...,\n",
       "         [4.35527983e+02, 9.97333174e-01, 0.00000000e+00],\n",
       "         [4.34240819e+02, 9.97044589e-01, 0.00000000e+00],\n",
       "         [4.34261270e+02, 1.00004710e+00, 0.00000000e+00]],\n",
       " \n",
       "        ...,\n",
       " \n",
       "        [[1.17419998e+02, 1.00000000e+00, 0.00000000e+00],\n",
       "         [1.19082602e+02, 1.01415946e+00, 0.00000000e+00],\n",
       "         [1.18860920e+02, 9.98138423e-01, 0.00000000e+00],\n",
       "         ...,\n",
       "         [2.72487127e+02, 9.98980609e-01, 0.00000000e+00],\n",
       "         [2.72649321e+02, 1.00059524e+00, 0.00000000e+00],\n",
       "         [2.72324933e+02, 9.98810237e-01, 0.00000000e+00]],\n",
       " \n",
       "        [[1.17419998e+02, 1.00000000e+00, 0.00000000e+00],\n",
       "         [1.17467580e+02, 1.00040522e+00, 0.00000000e+00],\n",
       "         [1.18546137e+02, 1.00918175e+00, 0.00000000e+00],\n",
       "         ...,\n",
       "         [2.73029681e+02, 9.97880936e-01, 0.00000000e+00],\n",
       "         [2.71132174e+02, 9.93050181e-01, 0.00000000e+00],\n",
       "         [2.72878157e+02, 1.00643960e+00, 0.00000000e+00]],\n",
       " \n",
       "        [[1.17419998e+02, 1.00000000e+00, 0.00000000e+00],\n",
       "         [1.17479359e+02, 1.00050554e+00, 0.00000000e+00],\n",
       "         [1.16962127e+02, 9.95597253e-01, 0.00000000e+00],\n",
       "         ...,\n",
       "         [1.39961876e+02, 1.00380148e+00, 0.00000000e+00],\n",
       "         [1.41878190e+02, 1.01369168e+00, 0.00000000e+00],\n",
       "         [1.42866925e+02, 1.00696890e+00, 0.00000000e+00]]]),\n",
       " 'TLT': array([[[ 88.26000214,   1.        ,   0.        ],\n",
       "         [ 86.8181294 ,   0.98366335,   0.        ],\n",
       "         [ 86.0491338 ,   0.99114245,   0.        ],\n",
       "         ...,\n",
       "         [238.91132091,   0.99688277,   0.        ],\n",
       "         [241.42697871,   1.01052967,   0.        ],\n",
       "         [239.787988  ,   0.99321124,   0.        ]],\n",
       " \n",
       "        [[ 88.26000214,   1.        ,   0.        ],\n",
       "         [ 88.00722309,   0.99713597,   0.        ],\n",
       "         [ 86.73282552,   0.9855194 ,   0.        ],\n",
       "         ...,\n",
       "         [189.75089865,   0.99920904,   0.        ],\n",
       "         [191.12419348,   1.00723736,   0.        ],\n",
       "         [192.2614517 ,   1.00595036,   0.        ]],\n",
       " \n",
       "        [[ 88.26000214,   1.        ,   0.        ],\n",
       "         [ 89.30504691,   1.01184053,   0.        ],\n",
       "         [ 88.75052925,   0.99379075,   0.        ],\n",
       "         ...,\n",
       "         [325.81819221,   1.00057605,   0.        ],\n",
       "         [327.39402743,   1.00483655,   0.        ],\n",
       "         [326.86875855,   0.99839561,   0.        ]],\n",
       " \n",
       "        ...,\n",
       " \n",
       "        [[ 88.26000214,   1.        ,   0.        ],\n",
       "         [ 89.33078384,   1.01213213,   0.        ],\n",
       "         [ 88.78400502,   0.99387917,   0.        ],\n",
       "         ...,\n",
       "         [324.90623877,   1.00586374,   0.        ],\n",
       "         [325.34334239,   1.00134532,   0.        ],\n",
       "         [328.4758489 ,   1.00962831,   0.        ]],\n",
       " \n",
       "        [[ 88.26000214,   1.        ,   0.        ],\n",
       "         [ 86.17910552,   0.97642311,   0.        ],\n",
       "         [ 85.96531245,   0.9975192 ,   0.        ],\n",
       "         ...,\n",
       "         [316.08427425,   1.00547295,   0.        ],\n",
       "         [317.0600933 ,   1.00308721,   0.        ],\n",
       "         [316.08427419,   0.99692229,   0.        ]],\n",
       " \n",
       "        [[ 88.26000214,   1.        ,   0.        ],\n",
       "         [ 87.76117418,   0.9943482 ,   0.        ],\n",
       "         [ 88.04429525,   1.00322604,   0.        ],\n",
       "         ...,\n",
       "         [159.19694731,   1.00094969,   0.        ],\n",
       "         [159.15919346,   0.99976285,   0.        ],\n",
       "         [160.80175241,   1.01032023,   0.        ]]]),\n",
       " 'GLD': array([[[ 44.77999878,   1.        ,   0.        ],\n",
       "         [ 45.7382661 ,   1.02139945,   0.        ],\n",
       "         [ 46.79286842,   1.02305733,   0.        ],\n",
       "         ...,\n",
       "         [117.13046818,   1.00681814,   0.        ],\n",
       "         [116.83081482,   0.99744171,   0.        ],\n",
       "         [117.2891169 ,   1.00392278,   0.        ]],\n",
       " \n",
       "        [[ 44.77999878,   1.        ,   0.        ],\n",
       "         [ 45.1985287 ,   1.00934636,   0.        ],\n",
       "         [ 44.50012473,   0.98454808,   0.        ],\n",
       "         ...,\n",
       "         [ 96.44400328,   0.99287344,   0.        ],\n",
       "         [ 96.61088545,   1.00173035,   0.        ],\n",
       "         [ 95.74558795,   0.99104348,   0.        ]],\n",
       " \n",
       "        [[ 44.77999878,   1.        ,   0.        ],\n",
       "         [ 44.82576375,   1.001022  ,   0.        ],\n",
       "         [ 44.98021507,   1.00344559,   0.        ],\n",
       "         ...,\n",
       "         [122.05669077,   0.95174653,   0.        ],\n",
       "         [118.8547973 ,   0.97376716,   0.        ],\n",
       "         [120.84058668,   1.01670769,   0.        ]],\n",
       " \n",
       "        ...,\n",
       " \n",
       "        [[ 44.77999878,   1.        ,   0.        ],\n",
       "         [ 44.78582403,   1.00013009,   0.        ],\n",
       "         [ 44.87937488,   1.00208885,   0.        ],\n",
       "         ...,\n",
       "         [219.77871402,   0.99729366,   0.        ],\n",
       "         [218.78468626,   0.99547714,   0.        ],\n",
       "         [220.02721629,   1.00567924,   0.        ]],\n",
       " \n",
       "        [[ 44.77999878,   1.        ,   0.        ],\n",
       "         [ 44.77333713,   0.99985124,   0.        ],\n",
       "         [ 44.52025056,   0.99434738,   0.        ],\n",
       "         ...,\n",
       "         [294.61682347,   0.99350406,   0.        ],\n",
       "         [290.24873217,   0.98517365,   0.        ],\n",
       "         [287.50848323,   0.99055896,   0.        ]],\n",
       " \n",
       "        [[ 44.77999878,   1.        ,   0.        ],\n",
       "         [ 44.40846555,   0.99170314,   0.        ],\n",
       "         [ 44.42222895,   1.00030993,   0.        ],\n",
       "         ...,\n",
       "         [ 33.67299165,   0.99497533,   0.        ],\n",
       "         [ 33.7926554 ,   1.0035537 ,   0.        ],\n",
       "         [ 34.57677522,   1.02320385,   0.        ]]])}"
      ]
     },
     "metadata": {},
     "execution_count": 26
    }
   ],
   "source": [
    "sim_all(d)"
   ]
  },
  {
   "cell_type": "code",
   "execution_count": 8,
   "metadata": {},
   "outputs": [
    {
     "output_type": "execute_result",
     "data": {
      "text/plain": [
       "4035"
      ]
     },
     "metadata": {},
     "execution_count": 8
    }
   ],
   "source": [
    "len(d)"
   ]
  },
  {
   "cell_type": "code",
   "execution_count": 10,
   "metadata": {
    "scrolled": true
   },
   "outputs": [
    {
     "output_type": "error",
     "ename": "NameError",
     "evalue": "name 'ls_div_to_div_std' is not defined",
     "traceback": [
      "\u001b[1;31m---------------------------------------------------------------------------\u001b[0m",
      "\u001b[1;31mNameError\u001b[0m                                 Traceback (most recent call last)",
      "\u001b[1;32m<ipython-input-10-1d838ef64527>\u001b[0m in \u001b[0;36m<module>\u001b[1;34m\u001b[0m\n\u001b[0;32m      1\u001b[0m \u001b[1;31m###retd is correlated to both returns and variance in a period\u001b[0m\u001b[1;33m\u001b[0m\u001b[1;33m\u001b[0m\u001b[1;33m\u001b[0m\u001b[0m\n\u001b[0;32m      2\u001b[0m \u001b[1;33m\u001b[0m\u001b[0m\n\u001b[1;32m----> 3\u001b[1;33m \u001b[0mx\u001b[0m \u001b[1;33m=\u001b[0m \u001b[0mls_div_to_div_std\u001b[0m\u001b[1;33m\u001b[0m\u001b[1;33m\u001b[0m\u001b[0m\n\u001b[0m\u001b[0;32m      4\u001b[0m \u001b[0my\u001b[0m \u001b[1;33m=\u001b[0m \u001b[0mls_div_ret\u001b[0m\u001b[1;33m\u001b[0m\u001b[1;33m\u001b[0m\u001b[0m\n\u001b[0;32m      5\u001b[0m \u001b[0mplt\u001b[0m\u001b[1;33m.\u001b[0m\u001b[0mscatter\u001b[0m\u001b[1;33m(\u001b[0m\u001b[0mx\u001b[0m\u001b[1;33m,\u001b[0m \u001b[0my\u001b[0m\u001b[1;33m)\u001b[0m\u001b[1;33m\u001b[0m\u001b[1;33m\u001b[0m\u001b[0m\n",
      "\u001b[1;31mNameError\u001b[0m: name 'ls_div_to_div_std' is not defined"
     ]
    }
   ],
   "source": [
    "###retd is correlated to both returns and variance in a period\n",
    "\n",
    "x = ls_div_to_div_std\n",
    "y = ls_div_ret\n",
    "plt.scatter(x, y)"
   ]
  },
  {
   "cell_type": "code",
   "execution_count": 11,
   "metadata": {},
   "outputs": [
    {
     "output_type": "error",
     "ename": "NameError",
     "evalue": "name 'ls_div_to_div_ret' is not defined",
     "traceback": [
      "\u001b[1;31m---------------------------------------------------------------------------\u001b[0m",
      "\u001b[1;31mNameError\u001b[0m                                 Traceback (most recent call last)",
      "\u001b[1;32m<ipython-input-11-9c2a52e4c970>\u001b[0m in \u001b[0;36m<module>\u001b[1;34m\u001b[0m\n\u001b[1;32m----> 1\u001b[1;33m \u001b[0mx\u001b[0m \u001b[1;33m=\u001b[0m \u001b[0mls_div_to_div_ret\u001b[0m\u001b[1;33m\u001b[0m\u001b[1;33m\u001b[0m\u001b[0m\n\u001b[0m\u001b[0;32m      2\u001b[0m \u001b[0my\u001b[0m \u001b[1;33m=\u001b[0m \u001b[0mls_div_ret\u001b[0m\u001b[1;33m\u001b[0m\u001b[1;33m\u001b[0m\u001b[0m\n\u001b[0;32m      3\u001b[0m \u001b[0mplt\u001b[0m\u001b[1;33m.\u001b[0m\u001b[0mscatter\u001b[0m\u001b[1;33m(\u001b[0m\u001b[0mx\u001b[0m\u001b[1;33m,\u001b[0m \u001b[0my\u001b[0m\u001b[1;33m)\u001b[0m\u001b[1;33m\u001b[0m\u001b[1;33m\u001b[0m\u001b[0m\n",
      "\u001b[1;31mNameError\u001b[0m: name 'ls_div_to_div_ret' is not defined"
     ]
    }
   ],
   "source": [
    "x = ls_div_to_div_ret\n",
    "y = ls_div_ret\n",
    "plt.scatter(x, y)"
   ]
  },
  {
   "cell_type": "code",
   "execution_count": 12,
   "metadata": {
    "scrolled": true
   },
   "outputs": [
    {
     "output_type": "execute_result",
     "data": {
      "text/plain": [
       "<matplotlib.collections.PathCollection at 0x1f12539fb00>"
      ]
     },
     "metadata": {},
     "execution_count": 12
    },
    {
     "output_type": "display_data",
     "data": {
      "text/plain": "<Figure size 432x288 with 1 Axes>",
      "image/svg+xml": "<?xml version=\"1.0\" encoding=\"utf-8\" standalone=\"no\"?>\r\n<!DOCTYPE svg PUBLIC \"-//W3C//DTD SVG 1.1//EN\"\r\n  \"http://www.w3.org/Graphics/SVG/1.1/DTD/svg11.dtd\">\r\n<!-- Created with matplotlib (https://matplotlib.org/) -->\r\n<svg height=\"248.518125pt\" version=\"1.1\" viewBox=\"0 0 378.465625 248.518125\" width=\"378.465625pt\" xmlns=\"http://www.w3.org/2000/svg\" xmlns:xlink=\"http://www.w3.org/1999/xlink\">\r\n <defs>\r\n  <style type=\"text/css\">\r\n*{stroke-linecap:butt;stroke-linejoin:round;}\r\n  </style>\r\n </defs>\r\n <g id=\"figure_1\">\r\n  <g id=\"patch_1\">\r\n   <path d=\"M 0 248.518125 \r\nL 378.465625 248.518125 \r\nL 378.465625 0 \r\nL 0 0 \r\nz\r\n\" style=\"fill:none;\"/>\r\n  </g>\r\n  <g id=\"axes_1\">\r\n   <g id=\"patch_2\">\r\n    <path d=\"M 36.465625 224.64 \r\nL 371.265625 224.64 \r\nL 371.265625 7.2 \r\nL 36.465625 7.2 \r\nz\r\n\" style=\"fill:#ffffff;\"/>\r\n   </g>\r\n   <g id=\"PathCollection_1\">\r\n    <defs>\r\n     <path d=\"M 0 3 \r\nC 0.795609 3 1.55874 2.683901 2.12132 2.12132 \r\nC 2.683901 1.55874 3 0.795609 3 0 \r\nC 3 -0.795609 2.683901 -1.55874 2.12132 -2.12132 \r\nC 1.55874 -2.683901 0.795609 -3 0 -3 \r\nC -0.795609 -3 -1.55874 -2.683901 -2.12132 -2.12132 \r\nC -2.683901 -1.55874 -3 -0.795609 -3 0 \r\nC -3 0.795609 -2.683901 1.55874 -2.12132 2.12132 \r\nC -1.55874 2.683901 -0.795609 3 0 3 \r\nz\r\n\" id=\"md2fc19d2da\" style=\"stroke:#1f77b4;\"/>\r\n    </defs>\r\n    <g clip-path=\"url(#p3cb56e1999)\">\r\n     <use style=\"fill:#1f77b4;stroke:#1f77b4;\" x=\"109.530681\" xlink:href=\"#md2fc19d2da\" y=\"125.18064\"/>\r\n     <use style=\"fill:#1f77b4;stroke:#1f77b4;\" x=\"51.683807\" xlink:href=\"#md2fc19d2da\" y=\"114.45952\"/>\r\n     <use style=\"fill:#1f77b4;stroke:#1f77b4;\" x=\"59.276597\" xlink:href=\"#md2fc19d2da\" y=\"98.772836\"/>\r\n     <use style=\"fill:#1f77b4;stroke:#1f77b4;\" x=\"75.407978\" xlink:href=\"#md2fc19d2da\" y=\"91.166192\"/>\r\n     <use style=\"fill:#1f77b4;stroke:#1f77b4;\" x=\"151.390915\" xlink:href=\"#md2fc19d2da\" y=\"118.308042\"/>\r\n     <use style=\"fill:#1f77b4;stroke:#1f77b4;\" x=\"55.447025\" xlink:href=\"#md2fc19d2da\" y=\"105.487367\"/>\r\n     <use style=\"fill:#1f77b4;stroke:#1f77b4;\" x=\"87.756198\" xlink:href=\"#md2fc19d2da\" y=\"125.937323\"/>\r\n     <use style=\"fill:#1f77b4;stroke:#1f77b4;\" x=\"86.067055\" xlink:href=\"#md2fc19d2da\" y=\"102.879659\"/>\r\n     <use style=\"fill:#1f77b4;stroke:#1f77b4;\" x=\"171.070883\" xlink:href=\"#md2fc19d2da\" y=\"111.053773\"/>\r\n     <use style=\"fill:#1f77b4;stroke:#1f77b4;\" x=\"54.572357\" xlink:href=\"#md2fc19d2da\" y=\"114.147362\"/>\r\n     <use style=\"fill:#1f77b4;stroke:#1f77b4;\" x=\"79.277846\" xlink:href=\"#md2fc19d2da\" y=\"94.687525\"/>\r\n     <use style=\"fill:#1f77b4;stroke:#1f77b4;\" x=\"110.929448\" xlink:href=\"#md2fc19d2da\" y=\"102.865015\"/>\r\n     <use style=\"fill:#1f77b4;stroke:#1f77b4;\" x=\"152.243381\" xlink:href=\"#md2fc19d2da\" y=\"76.25315\"/>\r\n     <use style=\"fill:#1f77b4;stroke:#1f77b4;\" x=\"126.079941\" xlink:href=\"#md2fc19d2da\" y=\"65.591734\"/>\r\n     <use style=\"fill:#1f77b4;stroke:#1f77b4;\" x=\"129.945893\" xlink:href=\"#md2fc19d2da\" y=\"148.655478\"/>\r\n     <use style=\"fill:#1f77b4;stroke:#1f77b4;\" x=\"186.935888\" xlink:href=\"#md2fc19d2da\" y=\"17.083636\"/>\r\n     <use style=\"fill:#1f77b4;stroke:#1f77b4;\" x=\"356.047443\" xlink:href=\"#md2fc19d2da\" y=\"127.529421\"/>\r\n     <use style=\"fill:#1f77b4;stroke:#1f77b4;\" x=\"286.687607\" xlink:href=\"#md2fc19d2da\" y=\"165.735852\"/>\r\n     <use style=\"fill:#1f77b4;stroke:#1f77b4;\" x=\"177.004324\" xlink:href=\"#md2fc19d2da\" y=\"102.637966\"/>\r\n     <use style=\"fill:#1f77b4;stroke:#1f77b4;\" x=\"112.68726\" xlink:href=\"#md2fc19d2da\" y=\"107.830485\"/>\r\n     <use style=\"fill:#1f77b4;stroke:#1f77b4;\" x=\"157.717662\" xlink:href=\"#md2fc19d2da\" y=\"97.329555\"/>\r\n     <use style=\"fill:#1f77b4;stroke:#1f77b4;\" x=\"65.731091\" xlink:href=\"#md2fc19d2da\" y=\"119.858357\"/>\r\n     <use style=\"fill:#1f77b4;stroke:#1f77b4;\" x=\"112.246128\" xlink:href=\"#md2fc19d2da\" y=\"106.772927\"/>\r\n     <use style=\"fill:#1f77b4;stroke:#1f77b4;\" x=\"155.486419\" xlink:href=\"#md2fc19d2da\" y=\"109.863307\"/>\r\n     <use style=\"fill:#1f77b4;stroke:#1f77b4;\" x=\"148.388436\" xlink:href=\"#md2fc19d2da\" y=\"107.974245\"/>\r\n     <use style=\"fill:#1f77b4;stroke:#1f77b4;\" x=\"82.142433\" xlink:href=\"#md2fc19d2da\" y=\"99.670856\"/>\r\n     <use style=\"fill:#1f77b4;stroke:#1f77b4;\" x=\"126.39517\" xlink:href=\"#md2fc19d2da\" y=\"102.692707\"/>\r\n     <use style=\"fill:#1f77b4;stroke:#1f77b4;\" x=\"142.288981\" xlink:href=\"#md2fc19d2da\" y=\"96.185133\"/>\r\n     <use style=\"fill:#1f77b4;stroke:#1f77b4;\" x=\"227.244504\" xlink:href=\"#md2fc19d2da\" y=\"109.662007\"/>\r\n     <use style=\"fill:#1f77b4;stroke:#1f77b4;\" x=\"84.684982\" xlink:href=\"#md2fc19d2da\" y=\"105.14093\"/>\r\n     <use style=\"fill:#1f77b4;stroke:#1f77b4;\" x=\"143.029357\" xlink:href=\"#md2fc19d2da\" y=\"85.942975\"/>\r\n     <use style=\"fill:#1f77b4;stroke:#1f77b4;\" x=\"154.504537\" xlink:href=\"#md2fc19d2da\" y=\"111.715003\"/>\r\n     <use style=\"fill:#1f77b4;stroke:#1f77b4;\" x=\"281.483833\" xlink:href=\"#md2fc19d2da\" y=\"136.49057\"/>\r\n     <use style=\"fill:#1f77b4;stroke:#1f77b4;\" x=\"89.366546\" xlink:href=\"#md2fc19d2da\" y=\"111.754962\"/>\r\n     <use style=\"fill:#1f77b4;stroke:#1f77b4;\" x=\"150.932568\" xlink:href=\"#md2fc19d2da\" y=\"102.947692\"/>\r\n     <use style=\"fill:#1f77b4;stroke:#1f77b4;\" x=\"120.527258\" xlink:href=\"#md2fc19d2da\" y=\"126.303498\"/>\r\n     <use style=\"fill:#1f77b4;stroke:#1f77b4;\" x=\"160.988783\" xlink:href=\"#md2fc19d2da\" y=\"97.05762\"/>\r\n     <use style=\"fill:#1f77b4;stroke:#1f77b4;\" x=\"86.862577\" xlink:href=\"#md2fc19d2da\" y=\"117.744912\"/>\r\n     <use style=\"fill:#1f77b4;stroke:#1f77b4;\" x=\"114.428496\" xlink:href=\"#md2fc19d2da\" y=\"104.574186\"/>\r\n     <use style=\"fill:#1f77b4;stroke:#1f77b4;\" x=\"106.071539\" xlink:href=\"#md2fc19d2da\" y=\"111.292623\"/>\r\n     <use style=\"fill:#1f77b4;stroke:#1f77b4;\" x=\"167.410765\" xlink:href=\"#md2fc19d2da\" y=\"100.998197\"/>\r\n     <use style=\"fill:#1f77b4;stroke:#1f77b4;\" x=\"90.600019\" xlink:href=\"#md2fc19d2da\" y=\"87.564649\"/>\r\n     <use style=\"fill:#1f77b4;stroke:#1f77b4;\" x=\"119.839566\" xlink:href=\"#md2fc19d2da\" y=\"120.187921\"/>\r\n     <use style=\"fill:#1f77b4;stroke:#1f77b4;\" x=\"144.312922\" xlink:href=\"#md2fc19d2da\" y=\"149.37774\"/>\r\n     <use style=\"fill:#1f77b4;stroke:#1f77b4;\" x=\"198.670515\" xlink:href=\"#md2fc19d2da\" y=\"154.637619\"/>\r\n     <use style=\"fill:#1f77b4;stroke:#1f77b4;\" x=\"141.017382\" xlink:href=\"#md2fc19d2da\" y=\"100.912739\"/>\r\n     <use style=\"fill:#1f77b4;stroke:#1f77b4;\" x=\"144.421265\" xlink:href=\"#md2fc19d2da\" y=\"119.276526\"/>\r\n     <use style=\"fill:#1f77b4;stroke:#1f77b4;\" x=\"133.454177\" xlink:href=\"#md2fc19d2da\" y=\"119.261632\"/>\r\n     <use style=\"fill:#1f77b4;stroke:#1f77b4;\" x=\"194.643246\" xlink:href=\"#md2fc19d2da\" y=\"116.699476\"/>\r\n     <use style=\"fill:#1f77b4;stroke:#1f77b4;\" x=\"82.451786\" xlink:href=\"#md2fc19d2da\" y=\"112.565241\"/>\r\n     <use style=\"fill:#1f77b4;stroke:#1f77b4;\" x=\"120.748217\" xlink:href=\"#md2fc19d2da\" y=\"109.10045\"/>\r\n     <use style=\"fill:#1f77b4;stroke:#1f77b4;\" x=\"126.856212\" xlink:href=\"#md2fc19d2da\" y=\"106.61365\"/>\r\n     <use style=\"fill:#1f77b4;stroke:#1f77b4;\" x=\"137.889437\" xlink:href=\"#md2fc19d2da\" y=\"90.30864\"/>\r\n     <use style=\"fill:#1f77b4;stroke:#1f77b4;\" x=\"57.192649\" xlink:href=\"#md2fc19d2da\" y=\"104.959632\"/>\r\n     <use style=\"fill:#1f77b4;stroke:#1f77b4;\" x=\"92.489496\" xlink:href=\"#md2fc19d2da\" y=\"111.750221\"/>\r\n     <use style=\"fill:#1f77b4;stroke:#1f77b4;\" x=\"95.162668\" xlink:href=\"#md2fc19d2da\" y=\"110.972045\"/>\r\n     <use style=\"fill:#1f77b4;stroke:#1f77b4;\" x=\"190.840224\" xlink:href=\"#md2fc19d2da\" y=\"160.763904\"/>\r\n     <use style=\"fill:#1f77b4;stroke:#1f77b4;\" x=\"86.399197\" xlink:href=\"#md2fc19d2da\" y=\"96.703065\"/>\r\n     <use style=\"fill:#1f77b4;stroke:#1f77b4;\" x=\"119.685372\" xlink:href=\"#md2fc19d2da\" y=\"113.060622\"/>\r\n     <use style=\"fill:#1f77b4;stroke:#1f77b4;\" x=\"101.804457\" xlink:href=\"#md2fc19d2da\" y=\"120.28726\"/>\r\n     <use style=\"fill:#1f77b4;stroke:#1f77b4;\" x=\"123.619778\" xlink:href=\"#md2fc19d2da\" y=\"99.25302\"/>\r\n     <use style=\"fill:#1f77b4;stroke:#1f77b4;\" x=\"193.530509\" xlink:href=\"#md2fc19d2da\" y=\"214.756364\"/>\r\n     <use style=\"fill:#1f77b4;stroke:#1f77b4;\" x=\"86.123279\" xlink:href=\"#md2fc19d2da\" y=\"122.137241\"/>\r\n     <use style=\"fill:#1f77b4;stroke:#1f77b4;\" x=\"57.149442\" xlink:href=\"#md2fc19d2da\" y=\"135.04698\"/>\r\n    </g>\r\n   </g>\r\n   <g id=\"matplotlib.axis_1\">\r\n    <g id=\"xtick_1\">\r\n     <g id=\"line2d_1\">\r\n      <defs>\r\n       <path d=\"M 0 0 \r\nL 0 3.5 \r\n\" id=\"m29e12133f5\" style=\"stroke:#000000;stroke-width:0.8;\"/>\r\n      </defs>\r\n      <g>\r\n       <use style=\"stroke:#000000;stroke-width:0.8;\" x=\"58.054184\" xlink:href=\"#m29e12133f5\" y=\"224.64\"/>\r\n      </g>\r\n     </g>\r\n     <g id=\"text_1\">\r\n      <!-- 0.004 -->\r\n      <defs>\r\n       <path d=\"M 31.78125 66.40625 \r\nQ 24.171875 66.40625 20.328125 58.90625 \r\nQ 16.5 51.421875 16.5 36.375 \r\nQ 16.5 21.390625 20.328125 13.890625 \r\nQ 24.171875 6.390625 31.78125 6.390625 \r\nQ 39.453125 6.390625 43.28125 13.890625 \r\nQ 47.125 21.390625 47.125 36.375 \r\nQ 47.125 51.421875 43.28125 58.90625 \r\nQ 39.453125 66.40625 31.78125 66.40625 \r\nz\r\nM 31.78125 74.21875 \r\nQ 44.046875 74.21875 50.515625 64.515625 \r\nQ 56.984375 54.828125 56.984375 36.375 \r\nQ 56.984375 17.96875 50.515625 8.265625 \r\nQ 44.046875 -1.421875 31.78125 -1.421875 \r\nQ 19.53125 -1.421875 13.0625 8.265625 \r\nQ 6.59375 17.96875 6.59375 36.375 \r\nQ 6.59375 54.828125 13.0625 64.515625 \r\nQ 19.53125 74.21875 31.78125 74.21875 \r\nz\r\n\" id=\"DejaVuSans-48\"/>\r\n       <path d=\"M 10.6875 12.40625 \r\nL 21 12.40625 \r\nL 21 0 \r\nL 10.6875 0 \r\nz\r\n\" id=\"DejaVuSans-46\"/>\r\n       <path d=\"M 37.796875 64.3125 \r\nL 12.890625 25.390625 \r\nL 37.796875 25.390625 \r\nz\r\nM 35.203125 72.90625 \r\nL 47.609375 72.90625 \r\nL 47.609375 25.390625 \r\nL 58.015625 25.390625 \r\nL 58.015625 17.1875 \r\nL 47.609375 17.1875 \r\nL 47.609375 0 \r\nL 37.796875 0 \r\nL 37.796875 17.1875 \r\nL 4.890625 17.1875 \r\nL 4.890625 26.703125 \r\nz\r\n\" id=\"DejaVuSans-52\"/>\r\n      </defs>\r\n      <g transform=\"translate(43.740121 239.238437)scale(0.1 -0.1)\">\r\n       <use xlink:href=\"#DejaVuSans-48\"/>\r\n       <use x=\"63.623047\" xlink:href=\"#DejaVuSans-46\"/>\r\n       <use x=\"95.410156\" xlink:href=\"#DejaVuSans-48\"/>\r\n       <use x=\"159.033203\" xlink:href=\"#DejaVuSans-48\"/>\r\n       <use x=\"222.65625\" xlink:href=\"#DejaVuSans-52\"/>\r\n      </g>\r\n     </g>\r\n    </g>\r\n    <g id=\"xtick_2\">\r\n     <g id=\"line2d_2\">\r\n      <g>\r\n       <use style=\"stroke:#000000;stroke-width:0.8;\" x=\"131.51991\" xlink:href=\"#m29e12133f5\" y=\"224.64\"/>\r\n      </g>\r\n     </g>\r\n     <g id=\"text_2\">\r\n      <!-- 0.005 -->\r\n      <defs>\r\n       <path d=\"M 10.796875 72.90625 \r\nL 49.515625 72.90625 \r\nL 49.515625 64.59375 \r\nL 19.828125 64.59375 \r\nL 19.828125 46.734375 \r\nQ 21.96875 47.46875 24.109375 47.828125 \r\nQ 26.265625 48.1875 28.421875 48.1875 \r\nQ 40.625 48.1875 47.75 41.5 \r\nQ 54.890625 34.8125 54.890625 23.390625 \r\nQ 54.890625 11.625 47.5625 5.09375 \r\nQ 40.234375 -1.421875 26.90625 -1.421875 \r\nQ 22.3125 -1.421875 17.546875 -0.640625 \r\nQ 12.796875 0.140625 7.71875 1.703125 \r\nL 7.71875 11.625 \r\nQ 12.109375 9.234375 16.796875 8.0625 \r\nQ 21.484375 6.890625 26.703125 6.890625 \r\nQ 35.15625 6.890625 40.078125 11.328125 \r\nQ 45.015625 15.765625 45.015625 23.390625 \r\nQ 45.015625 31 40.078125 35.4375 \r\nQ 35.15625 39.890625 26.703125 39.890625 \r\nQ 22.75 39.890625 18.8125 39.015625 \r\nQ 14.890625 38.140625 10.796875 36.28125 \r\nz\r\n\" id=\"DejaVuSans-53\"/>\r\n      </defs>\r\n      <g transform=\"translate(117.205847 239.238437)scale(0.1 -0.1)\">\r\n       <use xlink:href=\"#DejaVuSans-48\"/>\r\n       <use x=\"63.623047\" xlink:href=\"#DejaVuSans-46\"/>\r\n       <use x=\"95.410156\" xlink:href=\"#DejaVuSans-48\"/>\r\n       <use x=\"159.033203\" xlink:href=\"#DejaVuSans-48\"/>\r\n       <use x=\"222.65625\" xlink:href=\"#DejaVuSans-53\"/>\r\n      </g>\r\n     </g>\r\n    </g>\r\n    <g id=\"xtick_3\">\r\n     <g id=\"line2d_3\">\r\n      <g>\r\n       <use style=\"stroke:#000000;stroke-width:0.8;\" x=\"204.985636\" xlink:href=\"#m29e12133f5\" y=\"224.64\"/>\r\n      </g>\r\n     </g>\r\n     <g id=\"text_3\">\r\n      <!-- 0.006 -->\r\n      <defs>\r\n       <path d=\"M 33.015625 40.375 \r\nQ 26.375 40.375 22.484375 35.828125 \r\nQ 18.609375 31.296875 18.609375 23.390625 \r\nQ 18.609375 15.53125 22.484375 10.953125 \r\nQ 26.375 6.390625 33.015625 6.390625 \r\nQ 39.65625 6.390625 43.53125 10.953125 \r\nQ 47.40625 15.53125 47.40625 23.390625 \r\nQ 47.40625 31.296875 43.53125 35.828125 \r\nQ 39.65625 40.375 33.015625 40.375 \r\nz\r\nM 52.59375 71.296875 \r\nL 52.59375 62.3125 \r\nQ 48.875 64.0625 45.09375 64.984375 \r\nQ 41.3125 65.921875 37.59375 65.921875 \r\nQ 27.828125 65.921875 22.671875 59.328125 \r\nQ 17.53125 52.734375 16.796875 39.40625 \r\nQ 19.671875 43.65625 24.015625 45.921875 \r\nQ 28.375 48.1875 33.59375 48.1875 \r\nQ 44.578125 48.1875 50.953125 41.515625 \r\nQ 57.328125 34.859375 57.328125 23.390625 \r\nQ 57.328125 12.15625 50.6875 5.359375 \r\nQ 44.046875 -1.421875 33.015625 -1.421875 \r\nQ 20.359375 -1.421875 13.671875 8.265625 \r\nQ 6.984375 17.96875 6.984375 36.375 \r\nQ 6.984375 53.65625 15.1875 63.9375 \r\nQ 23.390625 74.21875 37.203125 74.21875 \r\nQ 40.921875 74.21875 44.703125 73.484375 \r\nQ 48.484375 72.75 52.59375 71.296875 \r\nz\r\n\" id=\"DejaVuSans-54\"/>\r\n      </defs>\r\n      <g transform=\"translate(190.671573 239.238437)scale(0.1 -0.1)\">\r\n       <use xlink:href=\"#DejaVuSans-48\"/>\r\n       <use x=\"63.623047\" xlink:href=\"#DejaVuSans-46\"/>\r\n       <use x=\"95.410156\" xlink:href=\"#DejaVuSans-48\"/>\r\n       <use x=\"159.033203\" xlink:href=\"#DejaVuSans-48\"/>\r\n       <use x=\"222.65625\" xlink:href=\"#DejaVuSans-54\"/>\r\n      </g>\r\n     </g>\r\n    </g>\r\n    <g id=\"xtick_4\">\r\n     <g id=\"line2d_4\">\r\n      <g>\r\n       <use style=\"stroke:#000000;stroke-width:0.8;\" x=\"278.451362\" xlink:href=\"#m29e12133f5\" y=\"224.64\"/>\r\n      </g>\r\n     </g>\r\n     <g id=\"text_4\">\r\n      <!-- 0.007 -->\r\n      <defs>\r\n       <path d=\"M 8.203125 72.90625 \r\nL 55.078125 72.90625 \r\nL 55.078125 68.703125 \r\nL 28.609375 0 \r\nL 18.3125 0 \r\nL 43.21875 64.59375 \r\nL 8.203125 64.59375 \r\nz\r\n\" id=\"DejaVuSans-55\"/>\r\n      </defs>\r\n      <g transform=\"translate(264.137299 239.238437)scale(0.1 -0.1)\">\r\n       <use xlink:href=\"#DejaVuSans-48\"/>\r\n       <use x=\"63.623047\" xlink:href=\"#DejaVuSans-46\"/>\r\n       <use x=\"95.410156\" xlink:href=\"#DejaVuSans-48\"/>\r\n       <use x=\"159.033203\" xlink:href=\"#DejaVuSans-48\"/>\r\n       <use x=\"222.65625\" xlink:href=\"#DejaVuSans-55\"/>\r\n      </g>\r\n     </g>\r\n    </g>\r\n    <g id=\"xtick_5\">\r\n     <g id=\"line2d_5\">\r\n      <g>\r\n       <use style=\"stroke:#000000;stroke-width:0.8;\" x=\"351.917088\" xlink:href=\"#m29e12133f5\" y=\"224.64\"/>\r\n      </g>\r\n     </g>\r\n     <g id=\"text_5\">\r\n      <!-- 0.008 -->\r\n      <defs>\r\n       <path d=\"M 31.78125 34.625 \r\nQ 24.75 34.625 20.71875 30.859375 \r\nQ 16.703125 27.09375 16.703125 20.515625 \r\nQ 16.703125 13.921875 20.71875 10.15625 \r\nQ 24.75 6.390625 31.78125 6.390625 \r\nQ 38.8125 6.390625 42.859375 10.171875 \r\nQ 46.921875 13.96875 46.921875 20.515625 \r\nQ 46.921875 27.09375 42.890625 30.859375 \r\nQ 38.875 34.625 31.78125 34.625 \r\nz\r\nM 21.921875 38.8125 \r\nQ 15.578125 40.375 12.03125 44.71875 \r\nQ 8.5 49.078125 8.5 55.328125 \r\nQ 8.5 64.0625 14.71875 69.140625 \r\nQ 20.953125 74.21875 31.78125 74.21875 \r\nQ 42.671875 74.21875 48.875 69.140625 \r\nQ 55.078125 64.0625 55.078125 55.328125 \r\nQ 55.078125 49.078125 51.53125 44.71875 \r\nQ 48 40.375 41.703125 38.8125 \r\nQ 48.828125 37.15625 52.796875 32.3125 \r\nQ 56.78125 27.484375 56.78125 20.515625 \r\nQ 56.78125 9.90625 50.3125 4.234375 \r\nQ 43.84375 -1.421875 31.78125 -1.421875 \r\nQ 19.734375 -1.421875 13.25 4.234375 \r\nQ 6.78125 9.90625 6.78125 20.515625 \r\nQ 6.78125 27.484375 10.78125 32.3125 \r\nQ 14.796875 37.15625 21.921875 38.8125 \r\nz\r\nM 18.3125 54.390625 \r\nQ 18.3125 48.734375 21.84375 45.5625 \r\nQ 25.390625 42.390625 31.78125 42.390625 \r\nQ 38.140625 42.390625 41.71875 45.5625 \r\nQ 45.3125 48.734375 45.3125 54.390625 \r\nQ 45.3125 60.0625 41.71875 63.234375 \r\nQ 38.140625 66.40625 31.78125 66.40625 \r\nQ 25.390625 66.40625 21.84375 63.234375 \r\nQ 18.3125 60.0625 18.3125 54.390625 \r\nz\r\n\" id=\"DejaVuSans-56\"/>\r\n      </defs>\r\n      <g transform=\"translate(337.603025 239.238437)scale(0.1 -0.1)\">\r\n       <use xlink:href=\"#DejaVuSans-48\"/>\r\n       <use x=\"63.623047\" xlink:href=\"#DejaVuSans-46\"/>\r\n       <use x=\"95.410156\" xlink:href=\"#DejaVuSans-48\"/>\r\n       <use x=\"159.033203\" xlink:href=\"#DejaVuSans-48\"/>\r\n       <use x=\"222.65625\" xlink:href=\"#DejaVuSans-56\"/>\r\n      </g>\r\n     </g>\r\n    </g>\r\n   </g>\r\n   <g id=\"matplotlib.axis_2\">\r\n    <g id=\"ytick_1\">\r\n     <g id=\"line2d_6\">\r\n      <defs>\r\n       <path d=\"M 0 0 \r\nL -3.5 0 \r\n\" id=\"m2675766c43\" style=\"stroke:#000000;stroke-width:0.8;\"/>\r\n      </defs>\r\n      <g>\r\n       <use style=\"stroke:#000000;stroke-width:0.8;\" x=\"36.465625\" xlink:href=\"#m2675766c43\" y=\"193.918642\"/>\r\n      </g>\r\n     </g>\r\n     <g id=\"text_6\">\r\n      <!-- 0.96 -->\r\n      <defs>\r\n       <path d=\"M 10.984375 1.515625 \r\nL 10.984375 10.5 \r\nQ 14.703125 8.734375 18.5 7.8125 \r\nQ 22.3125 6.890625 25.984375 6.890625 \r\nQ 35.75 6.890625 40.890625 13.453125 \r\nQ 46.046875 20.015625 46.78125 33.40625 \r\nQ 43.953125 29.203125 39.59375 26.953125 \r\nQ 35.25 24.703125 29.984375 24.703125 \r\nQ 19.046875 24.703125 12.671875 31.3125 \r\nQ 6.296875 37.9375 6.296875 49.421875 \r\nQ 6.296875 60.640625 12.9375 67.421875 \r\nQ 19.578125 74.21875 30.609375 74.21875 \r\nQ 43.265625 74.21875 49.921875 64.515625 \r\nQ 56.59375 54.828125 56.59375 36.375 \r\nQ 56.59375 19.140625 48.40625 8.859375 \r\nQ 40.234375 -1.421875 26.421875 -1.421875 \r\nQ 22.703125 -1.421875 18.890625 -0.6875 \r\nQ 15.09375 0.046875 10.984375 1.515625 \r\nz\r\nM 30.609375 32.421875 \r\nQ 37.25 32.421875 41.125 36.953125 \r\nQ 45.015625 41.5 45.015625 49.421875 \r\nQ 45.015625 57.28125 41.125 61.84375 \r\nQ 37.25 66.40625 30.609375 66.40625 \r\nQ 23.96875 66.40625 20.09375 61.84375 \r\nQ 16.21875 57.28125 16.21875 49.421875 \r\nQ 16.21875 41.5 20.09375 36.953125 \r\nQ 23.96875 32.421875 30.609375 32.421875 \r\nz\r\n\" id=\"DejaVuSans-57\"/>\r\n      </defs>\r\n      <g transform=\"translate(7.2 197.717861)scale(0.1 -0.1)\">\r\n       <use xlink:href=\"#DejaVuSans-48\"/>\r\n       <use x=\"63.623047\" xlink:href=\"#DejaVuSans-46\"/>\r\n       <use x=\"95.410156\" xlink:href=\"#DejaVuSans-57\"/>\r\n       <use x=\"159.033203\" xlink:href=\"#DejaVuSans-54\"/>\r\n      </g>\r\n     </g>\r\n    </g>\r\n    <g id=\"ytick_2\">\r\n     <g id=\"line2d_7\">\r\n      <g>\r\n       <use style=\"stroke:#000000;stroke-width:0.8;\" x=\"36.465625\" xlink:href=\"#m2675766c43\" y=\"145.950606\"/>\r\n      </g>\r\n     </g>\r\n     <g id=\"text_7\">\r\n      <!-- 0.98 -->\r\n      <g transform=\"translate(7.2 149.749825)scale(0.1 -0.1)\">\r\n       <use xlink:href=\"#DejaVuSans-48\"/>\r\n       <use x=\"63.623047\" xlink:href=\"#DejaVuSans-46\"/>\r\n       <use x=\"95.410156\" xlink:href=\"#DejaVuSans-57\"/>\r\n       <use x=\"159.033203\" xlink:href=\"#DejaVuSans-56\"/>\r\n      </g>\r\n     </g>\r\n    </g>\r\n    <g id=\"ytick_3\">\r\n     <g id=\"line2d_8\">\r\n      <g>\r\n       <use style=\"stroke:#000000;stroke-width:0.8;\" x=\"36.465625\" xlink:href=\"#m2675766c43\" y=\"97.98257\"/>\r\n      </g>\r\n     </g>\r\n     <g id=\"text_8\">\r\n      <!-- 1.00 -->\r\n      <defs>\r\n       <path d=\"M 12.40625 8.296875 \r\nL 28.515625 8.296875 \r\nL 28.515625 63.921875 \r\nL 10.984375 60.40625 \r\nL 10.984375 69.390625 \r\nL 28.421875 72.90625 \r\nL 38.28125 72.90625 \r\nL 38.28125 8.296875 \r\nL 54.390625 8.296875 \r\nL 54.390625 0 \r\nL 12.40625 0 \r\nz\r\n\" id=\"DejaVuSans-49\"/>\r\n      </defs>\r\n      <g transform=\"translate(7.2 101.781789)scale(0.1 -0.1)\">\r\n       <use xlink:href=\"#DejaVuSans-49\"/>\r\n       <use x=\"63.623047\" xlink:href=\"#DejaVuSans-46\"/>\r\n       <use x=\"95.410156\" xlink:href=\"#DejaVuSans-48\"/>\r\n       <use x=\"159.033203\" xlink:href=\"#DejaVuSans-48\"/>\r\n      </g>\r\n     </g>\r\n    </g>\r\n    <g id=\"ytick_4\">\r\n     <g id=\"line2d_9\">\r\n      <g>\r\n       <use style=\"stroke:#000000;stroke-width:0.8;\" x=\"36.465625\" xlink:href=\"#m2675766c43\" y=\"50.014534\"/>\r\n      </g>\r\n     </g>\r\n     <g id=\"text_9\">\r\n      <!-- 1.02 -->\r\n      <defs>\r\n       <path d=\"M 19.1875 8.296875 \r\nL 53.609375 8.296875 \r\nL 53.609375 0 \r\nL 7.328125 0 \r\nL 7.328125 8.296875 \r\nQ 12.9375 14.109375 22.625 23.890625 \r\nQ 32.328125 33.6875 34.8125 36.53125 \r\nQ 39.546875 41.84375 41.421875 45.53125 \r\nQ 43.3125 49.21875 43.3125 52.78125 \r\nQ 43.3125 58.59375 39.234375 62.25 \r\nQ 35.15625 65.921875 28.609375 65.921875 \r\nQ 23.96875 65.921875 18.8125 64.3125 \r\nQ 13.671875 62.703125 7.8125 59.421875 \r\nL 7.8125 69.390625 \r\nQ 13.765625 71.78125 18.9375 73 \r\nQ 24.125 74.21875 28.421875 74.21875 \r\nQ 39.75 74.21875 46.484375 68.546875 \r\nQ 53.21875 62.890625 53.21875 53.421875 \r\nQ 53.21875 48.921875 51.53125 44.890625 \r\nQ 49.859375 40.875 45.40625 35.40625 \r\nQ 44.1875 33.984375 37.640625 27.21875 \r\nQ 31.109375 20.453125 19.1875 8.296875 \r\nz\r\n\" id=\"DejaVuSans-50\"/>\r\n      </defs>\r\n      <g transform=\"translate(7.2 53.813752)scale(0.1 -0.1)\">\r\n       <use xlink:href=\"#DejaVuSans-49\"/>\r\n       <use x=\"63.623047\" xlink:href=\"#DejaVuSans-46\"/>\r\n       <use x=\"95.410156\" xlink:href=\"#DejaVuSans-48\"/>\r\n       <use x=\"159.033203\" xlink:href=\"#DejaVuSans-50\"/>\r\n      </g>\r\n     </g>\r\n    </g>\r\n   </g>\r\n   <g id=\"patch_3\">\r\n    <path d=\"M 36.465625 224.64 \r\nL 36.465625 7.2 \r\n\" style=\"fill:none;stroke:#000000;stroke-linecap:square;stroke-linejoin:miter;stroke-width:0.8;\"/>\r\n   </g>\r\n   <g id=\"patch_4\">\r\n    <path d=\"M 371.265625 224.64 \r\nL 371.265625 7.2 \r\n\" style=\"fill:none;stroke:#000000;stroke-linecap:square;stroke-linejoin:miter;stroke-width:0.8;\"/>\r\n   </g>\r\n   <g id=\"patch_5\">\r\n    <path d=\"M 36.465625 224.64 \r\nL 371.265625 224.64 \r\n\" style=\"fill:none;stroke:#000000;stroke-linecap:square;stroke-linejoin:miter;stroke-width:0.8;\"/>\r\n   </g>\r\n   <g id=\"patch_6\">\r\n    <path d=\"M 36.465625 7.2 \r\nL 371.265625 7.2 \r\n\" style=\"fill:none;stroke:#000000;stroke-linecap:square;stroke-linejoin:miter;stroke-width:0.8;\"/>\r\n   </g>\r\n  </g>\r\n </g>\r\n <defs>\r\n  <clipPath id=\"p3cb56e1999\">\r\n   <rect height=\"217.44\" width=\"334.8\" x=\"36.465625\" y=\"7.2\"/>\r\n  </clipPath>\r\n </defs>\r\n</svg>\r\n",
      "image/png": "[encoded data removed]"
     },
     "metadata": {
      "needs_background": "light"
     }
    }
   ],
   "source": [
    "###Price the day of a return is very slightly correlated to the dividend price, but has a loss on average.\n",
    "\n",
    "plt.scatter(np.array(d[d['SPY']['retd'] != 0]['SPY']['retd']), np.array(d[d['SPY']['retd'] != 0]['SPY']['retx']))"
   ]
  },
  {
   "cell_type": "code",
   "execution_count": 13,
   "metadata": {},
   "outputs": [
    {
     "output_type": "execute_result",
     "data": {
      "text/plain": [
       "array([[ 1.        , -0.25238551],\n",
       "       [-0.25238551,  1.        ]])"
      ]
     },
     "metadata": {},
     "execution_count": 13
    }
   ],
   "source": [
    "np.corrcoef(np.array(d[d['SPY']['retd'] != 0]['SPY']['retd']), np.array(d[d['SPY']['retd'] != 0]['SPY']['retx']))"
   ]
  },
  {
   "cell_type": "code",
   "execution_count": 14,
   "metadata": {},
   "outputs": [
    {
     "output_type": "execute_result",
     "data": {
      "text/plain": [
       "0.9942439051728797"
      ]
     },
     "metadata": {},
     "execution_count": 14
    }
   ],
   "source": [
    "d[d['SPY']['retd'] != 0]['SPY']['retx'].mean()"
   ]
  },
  {
   "cell_type": "code",
   "execution_count": 15,
   "metadata": {},
   "outputs": [
    {
     "output_type": "execute_result",
     "data": {
      "text/plain": [
       "0.01044219807136065"
      ]
     },
     "metadata": {},
     "execution_count": 15
    }
   ],
   "source": [
    "np.array(d[d['SPY']['retd'] != 0]['SPY']['retx']).std()"
   ]
  },
  {
   "cell_type": "code",
   "execution_count": 16,
   "metadata": {},
   "outputs": [],
   "source": [
    "s_ls_div = []\n",
    "t_ls_div = []\n",
    "s_div_cnt = 1\n",
    "t_div_cnt = 1\n",
    "for x in d.iterrows():\n",
    "    if x[1]['SPY']['retd'] == 0:\n",
    "        s_div_cnt += 1\n",
    "    else:\n",
    "        s_ls_div.append(s_div_cnt)\n",
    "        s_div_cnt = 1\n",
    "    if x[1]['TLT']['retd'] == 0:\n",
    "        t_div_cnt += 1\n",
    "    else:\n",
    "        t_ls_div.append(t_div_cnt)\n",
    "        t_div_cnt = 1    "
   ]
  },
  {
   "cell_type": "code",
   "execution_count": 17,
   "metadata": {},
   "outputs": [],
   "source": [
    "s_ls_div_dt = []\n",
    "t_ls_div_dt = []\n",
    "s_div_cnt = 0\n",
    "t_div_cnt = 0\n",
    "for x in d.iterrows():\n",
    "    if x[1]['SPY']['retd'] != 0:\n",
    "        s_ls_div_dt.append(x[0])\n",
    "    if x[1]['TLT']['retd'] != 0:\n",
    "        t_ls_div_dt.append(x[0])\n"
   ]
  },
  {
   "cell_type": "code",
   "execution_count": 18,
   "metadata": {},
   "outputs": [],
   "source": [
    "###This is to get the dividends to create a model for predicting/simulating retd\n",
    "\n",
    "div_day_cumsum = np.cumsum(s_ls_div)\n",
    "start = 1\n",
    "cumret = 0\n",
    "ls_div_to_div_ret = []\n",
    "ls_div_ret = []\n",
    "ls_div_to_div_std = []\n",
    "\n",
    "for x in div_day_cumsum:\n",
    "    div_to_div_std = np.std((np.array(d.iloc[start-1:x-1]['SPY']['ret'])))\n",
    "    div_to_div_ret = (np.array(d.iloc[start-1:x-1]['SPY']['ret'])).prod()\n",
    "    spy_div = (d.iloc[x-1]['SPY']['retd'])\n",
    "    ls_div_to_div_std.append(div_to_div_std)\n",
    "    ls_div_to_div_ret.append(div_to_div_ret)\n",
    "    ls_div_ret.append(spy_div)\n",
    "    start=x\n",
    "    \n",
    "X = np.array([ls_div_to_div_ret,ls_div_to_div_std]).T\n",
    "y=ls_div_ret\n",
    "reg = LinearRegression().fit(X,y)\n",
    "\n"
   ]
  },
  {
   "cell_type": "code",
   "execution_count": 19,
   "metadata": {},
   "outputs": [],
   "source": [
    "###This simulates the retx, and uses that simulate price and dividend.\n",
    "\n",
    "\n",
    "\n",
    "retx_sim = d[d['SPY']['retd'] == 0]['SPY']['retx']\n",
    "retx_sim_mod = CircularBlockBootstrap(20, retx_sim)\n",
    "tot_sim = 10\n",
    "sim = np.zeros((tot_sim,4035, 3))\n",
    "count = 0\n",
    "prc = []\n",
    "for y in retx_sim_mod.bootstrap(tot_sim):\n",
    "    test = y[0][0]\n",
    "\n",
    "\n",
    "\n",
    "    div_day_cumsum = np.cumsum(s_ls_div)\n",
    "    start = 1\n",
    "    ls_of_div = np.array(d[d['SPY']['retd'] != 0]['SPY']['retd'])\n",
    "    ls_of_div_retx = np.array(d[d['SPY']['retd'] != 0]['SPY']['retx'])\n",
    "\n",
    "    ls_sim_div = []\n",
    "\n",
    "    test.index = retx_sim.index\n",
    "    for x in range(len(div_day_cumsum)):\n",
    "        cum_retx = np.array(test[start-1:div_day_cumsum[x]-1]).prod()\n",
    "        cum_std = np.array(test[start-1:div_day_cumsum[x]-1]).std()\n",
    "        pred_div = reg.predict(np.array([[cum_retx],[cum_std]]).T)\n",
    "        sim_div_idx = min(ls_of_div, key=lambda i:abs(i-pred_div))\n",
    "        sim_rx = ls_of_div_retx[np.where(ls_of_div==sim_div_idx)[0][0]]\n",
    "        test.loc[s_ls_div_dt[x]] = sim_rx\n",
    "        ls_sim_div.append(pred_div[0])\n",
    "        test = test.sort_index()\n",
    "        start=div_day_cumsum[x]\n",
    "\n",
    "    test[0] = 1\n",
    "    prc = test\n",
    "    prc[0] = d.SPY.prc[0]\n",
    "    prc[1:] = test[1:].cumprod() * prc[0]\n",
    "\n",
    "\n",
    "\n",
    "    div_pay = test*0\n",
    "    div_dic = dict(zip(s_ls_div_dt, ls_sim_div)) \n",
    "    for i in s_ls_div_dt:\n",
    "        div_pay[i] = div_dic[i]\n",
    "\n",
    "    sim[count,:,:] = np.array((prc,test,div_pay)).T\n",
    "    count +=1\n",
    "    \n",
    "    \n"
   ]
  },
  {
   "cell_type": "code",
   "execution_count": null,
   "metadata": {},
   "outputs": [],
   "source": []
  }
 ],
 "metadata": {
  "kernelspec": {
   "display_name": "Python 3",
   "language": "python",
   "name": "python3"
  },
  "language_info": {
   "codemirror_mode": {
    "name": "ipython",
    "version": 3
   },
   "file_extension": ".py",
   "mimetype": "text/x-python",
   "name": "python",
   "nbconvert_exporter": "python",
   "pygments_lexer": "ipython3",
   "version": "3.7.3-final"
  }
 },
 "nbformat": 4,
 "nbformat_minor": 2
}