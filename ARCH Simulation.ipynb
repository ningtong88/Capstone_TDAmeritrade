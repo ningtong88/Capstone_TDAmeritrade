{
 "cells": [
  {
   "cell_type": "code",
   "execution_count": 303,
   "metadata": {
    "scrolled": true
   },
   "outputs": [],
   "source": [
    "from arch.bootstrap import CircularBlockBootstrap, optimal_block_length\n",
    "import pickle\n",
    "import numpy as np\n",
    "import pandas as pd\n",
    "import matplotlib.pyplot as plt\n",
    "from sklearn.linear_model import LinearRegression\n",
    "from math import log\n",
    "from scipy.stats import boxcox"
   ]
  },
  {
   "cell_type": "code",
   "execution_count": 5,
   "metadata": {},
   "outputs": [],
   "source": [
    "with open('low_var_port.pkl', 'rb') as f: d = pickle.load(f)"
   ]
  },
  {
   "cell_type": "code",
   "execution_count": 473,
   "metadata": {},
   "outputs": [
    {
     "data": {
      "text/html": [
       "<div>\n",
       "<style scoped>\n",
       "    .dataframe tbody tr th:only-of-type {\n",
       "        vertical-align: middle;\n",
       "    }\n",
       "\n",
       "    .dataframe tbody tr th {\n",
       "        vertical-align: top;\n",
       "    }\n",
       "\n",
       "    .dataframe thead tr th {\n",
       "        text-align: left;\n",
       "    }\n",
       "\n",
       "    .dataframe thead tr:last-of-type th {\n",
       "        text-align: right;\n",
       "    }\n",
       "</style>\n",
       "<table border=\"1\" class=\"dataframe\">\n",
       "  <thead>\n",
       "    <tr>\n",
       "      <th>ticker</th>\n",
       "      <th colspan=\"4\" halign=\"left\">SPY</th>\n",
       "      <th colspan=\"4\" halign=\"left\">TLT</th>\n",
       "      <th colspan=\"4\" halign=\"left\">GLD</th>\n",
       "    </tr>\n",
       "    <tr>\n",
       "      <th>metric</th>\n",
       "      <th>prc</th>\n",
       "      <th>ret</th>\n",
       "      <th>retx</th>\n",
       "      <th>retd</th>\n",
       "      <th>prc</th>\n",
       "      <th>ret</th>\n",
       "      <th>retx</th>\n",
       "      <th>retd</th>\n",
       "      <th>prc</th>\n",
       "      <th>ret</th>\n",
       "      <th>retx</th>\n",
       "      <th>retd</th>\n",
       "    </tr>\n",
       "    <tr>\n",
       "      <th>date</th>\n",
       "      <th></th>\n",
       "      <th></th>\n",
       "      <th></th>\n",
       "      <th></th>\n",
       "      <th></th>\n",
       "      <th></th>\n",
       "      <th></th>\n",
       "      <th></th>\n",
       "      <th></th>\n",
       "      <th></th>\n",
       "      <th></th>\n",
       "      <th></th>\n",
       "    </tr>\n",
       "  </thead>\n",
       "  <tbody>\n",
       "    <tr>\n",
       "      <th>2004-11-19</th>\n",
       "      <td>117.419998</td>\n",
       "      <td>0.988883</td>\n",
       "      <td>0.988883</td>\n",
       "      <td>0.0</td>\n",
       "      <td>88.260002</td>\n",
       "      <td>0.992020</td>\n",
       "      <td>0.992020</td>\n",
       "      <td>0.0</td>\n",
       "      <td>44.779999</td>\n",
       "      <td>1.009013</td>\n",
       "      <td>1.009013</td>\n",
       "      <td>0.0</td>\n",
       "    </tr>\n",
       "    <tr>\n",
       "      <th>2004-11-22</th>\n",
       "      <td>117.980003</td>\n",
       "      <td>1.004769</td>\n",
       "      <td>1.004769</td>\n",
       "      <td>0.0</td>\n",
       "      <td>88.720001</td>\n",
       "      <td>1.005212</td>\n",
       "      <td>1.005212</td>\n",
       "      <td>0.0</td>\n",
       "      <td>44.950001</td>\n",
       "      <td>1.003796</td>\n",
       "      <td>1.003796</td>\n",
       "      <td>0.0</td>\n",
       "    </tr>\n",
       "    <tr>\n",
       "      <th>2004-11-23</th>\n",
       "      <td>118.160004</td>\n",
       "      <td>1.001526</td>\n",
       "      <td>1.001526</td>\n",
       "      <td>0.0</td>\n",
       "      <td>88.830002</td>\n",
       "      <td>1.001240</td>\n",
       "      <td>1.001240</td>\n",
       "      <td>0.0</td>\n",
       "      <td>44.750000</td>\n",
       "      <td>0.995551</td>\n",
       "      <td>0.995551</td>\n",
       "      <td>0.0</td>\n",
       "    </tr>\n",
       "    <tr>\n",
       "      <th>2004-11-24</th>\n",
       "      <td>118.440002</td>\n",
       "      <td>1.002370</td>\n",
       "      <td>1.002370</td>\n",
       "      <td>0.0</td>\n",
       "      <td>88.830002</td>\n",
       "      <td>1.000000</td>\n",
       "      <td>1.000000</td>\n",
       "      <td>0.0</td>\n",
       "      <td>45.049999</td>\n",
       "      <td>1.006704</td>\n",
       "      <td>1.006704</td>\n",
       "      <td>0.0</td>\n",
       "    </tr>\n",
       "    <tr>\n",
       "      <th>2004-11-26</th>\n",
       "      <td>118.339996</td>\n",
       "      <td>0.999156</td>\n",
       "      <td>0.999156</td>\n",
       "      <td>0.0</td>\n",
       "      <td>88.250000</td>\n",
       "      <td>0.993471</td>\n",
       "      <td>0.993471</td>\n",
       "      <td>0.0</td>\n",
       "      <td>45.290001</td>\n",
       "      <td>1.005327</td>\n",
       "      <td>1.005327</td>\n",
       "      <td>0.0</td>\n",
       "    </tr>\n",
       "    <tr>\n",
       "      <th>...</th>\n",
       "      <td>...</td>\n",
       "      <td>...</td>\n",
       "      <td>...</td>\n",
       "      <td>...</td>\n",
       "      <td>...</td>\n",
       "      <td>...</td>\n",
       "      <td>...</td>\n",
       "      <td>...</td>\n",
       "      <td>...</td>\n",
       "      <td>...</td>\n",
       "      <td>...</td>\n",
       "      <td>...</td>\n",
       "    </tr>\n",
       "    <tr>\n",
       "      <th>2020-11-23</th>\n",
       "      <td>357.459991</td>\n",
       "      <td>1.005994</td>\n",
       "      <td>1.005994</td>\n",
       "      <td>0.0</td>\n",
       "      <td>160.770004</td>\n",
       "      <td>0.995418</td>\n",
       "      <td>0.995418</td>\n",
       "      <td>0.0</td>\n",
       "      <td>172.229996</td>\n",
       "      <td>0.980306</td>\n",
       "      <td>0.980306</td>\n",
       "      <td>0.0</td>\n",
       "    </tr>\n",
       "    <tr>\n",
       "      <th>2020-11-24</th>\n",
       "      <td>363.220001</td>\n",
       "      <td>1.016114</td>\n",
       "      <td>1.016114</td>\n",
       "      <td>0.0</td>\n",
       "      <td>159.169998</td>\n",
       "      <td>0.990048</td>\n",
       "      <td>0.990048</td>\n",
       "      <td>0.0</td>\n",
       "      <td>169.589996</td>\n",
       "      <td>0.984672</td>\n",
       "      <td>0.984672</td>\n",
       "      <td>0.0</td>\n",
       "    </tr>\n",
       "    <tr>\n",
       "      <th>2020-11-25</th>\n",
       "      <td>362.660004</td>\n",
       "      <td>0.998458</td>\n",
       "      <td>0.998458</td>\n",
       "      <td>0.0</td>\n",
       "      <td>158.679993</td>\n",
       "      <td>0.996921</td>\n",
       "      <td>0.996921</td>\n",
       "      <td>0.0</td>\n",
       "      <td>169.509995</td>\n",
       "      <td>0.999528</td>\n",
       "      <td>0.999528</td>\n",
       "      <td>0.0</td>\n",
       "    </tr>\n",
       "    <tr>\n",
       "      <th>2020-11-27</th>\n",
       "      <td>363.670013</td>\n",
       "      <td>1.002785</td>\n",
       "      <td>1.002785</td>\n",
       "      <td>0.0</td>\n",
       "      <td>160.220001</td>\n",
       "      <td>1.009705</td>\n",
       "      <td>1.009705</td>\n",
       "      <td>0.0</td>\n",
       "      <td>167.789993</td>\n",
       "      <td>0.989853</td>\n",
       "      <td>0.989853</td>\n",
       "      <td>0.0</td>\n",
       "    </tr>\n",
       "    <tr>\n",
       "      <th>2020-11-30</th>\n",
       "      <td>362.059998</td>\n",
       "      <td>0.995573</td>\n",
       "      <td>0.995573</td>\n",
       "      <td>0.0</td>\n",
       "      <td>160.020004</td>\n",
       "      <td>0.998752</td>\n",
       "      <td>0.998752</td>\n",
       "      <td>0.0</td>\n",
       "      <td>166.669998</td>\n",
       "      <td>0.993325</td>\n",
       "      <td>0.993325</td>\n",
       "      <td>0.0</td>\n",
       "    </tr>\n",
       "  </tbody>\n",
       "</table>\n",
       "<p>4035 rows × 12 columns</p>\n",
       "</div>"
      ],
      "text/plain": [
       "ticker             SPY                                  TLT            \\\n",
       "metric             prc       ret      retx retd         prc       ret   \n",
       "date                                                                    \n",
       "2004-11-19  117.419998  0.988883  0.988883  0.0   88.260002  0.992020   \n",
       "2004-11-22  117.980003  1.004769  1.004769  0.0   88.720001  1.005212   \n",
       "2004-11-23  118.160004  1.001526  1.001526  0.0   88.830002  1.001240   \n",
       "2004-11-24  118.440002  1.002370  1.002370  0.0   88.830002  1.000000   \n",
       "2004-11-26  118.339996  0.999156  0.999156  0.0   88.250000  0.993471   \n",
       "...                ...       ...       ...  ...         ...       ...   \n",
       "2020-11-23  357.459991  1.005994  1.005994  0.0  160.770004  0.995418   \n",
       "2020-11-24  363.220001  1.016114  1.016114  0.0  159.169998  0.990048   \n",
       "2020-11-25  362.660004  0.998458  0.998458  0.0  158.679993  0.996921   \n",
       "2020-11-27  363.670013  1.002785  1.002785  0.0  160.220001  1.009705   \n",
       "2020-11-30  362.059998  0.995573  0.995573  0.0  160.020004  0.998752   \n",
       "\n",
       "ticker                            GLD                           \n",
       "metric          retx retd         prc       ret      retx retd  \n",
       "date                                                            \n",
       "2004-11-19  0.992020  0.0   44.779999  1.009013  1.009013  0.0  \n",
       "2004-11-22  1.005212  0.0   44.950001  1.003796  1.003796  0.0  \n",
       "2004-11-23  1.001240  0.0   44.750000  0.995551  0.995551  0.0  \n",
       "2004-11-24  1.000000  0.0   45.049999  1.006704  1.006704  0.0  \n",
       "2004-11-26  0.993471  0.0   45.290001  1.005327  1.005327  0.0  \n",
       "...              ...  ...         ...       ...       ...  ...  \n",
       "2020-11-23  0.995418  0.0  172.229996  0.980306  0.980306  0.0  \n",
       "2020-11-24  0.990048  0.0  169.589996  0.984672  0.984672  0.0  \n",
       "2020-11-25  0.996921  0.0  169.509995  0.999528  0.999528  0.0  \n",
       "2020-11-27  1.009705  0.0  167.789993  0.989853  0.989853  0.0  \n",
       "2020-11-30  0.998752  0.0  166.669998  0.993325  0.993325  0.0  \n",
       "\n",
       "[4035 rows x 12 columns]"
      ]
     },
     "execution_count": 473,
     "metadata": {},
     "output_type": "execute_result"
    }
   ],
   "source": [
    "d"
   ]
  },
  {
   "cell_type": "code",
   "execution_count": 335,
   "metadata": {
    "scrolled": true
   },
   "outputs": [
    {
     "data": {
      "text/plain": [
       "<matplotlib.collections.PathCollection at 0x254894a7f60>"
      ]
     },
     "execution_count": 335,
     "metadata": {},
     "output_type": "execute_result"
    },
    {
     "data": {
      "image/png": "[encoded data removed]",
      "text/plain": [
       "<Figure size 432x288 with 1 Axes>"
      ]
     },
     "metadata": {
      "needs_background": "light"
     },
     "output_type": "display_data"
    }
   ],
   "source": [
    "###retd is correlated to both returns and variance in a period\n",
    "\n",
    "x = ls_div_to_div_std\n",
    "y = ls_div_ret\n",
    "plt.scatter(x, y)"
   ]
  },
  {
   "cell_type": "code",
   "execution_count": 351,
   "metadata": {},
   "outputs": [
    {
     "data": {
      "text/plain": [
       "<matplotlib.collections.PathCollection at 0x2548a7d30f0>"
      ]
     },
     "execution_count": 351,
     "metadata": {},
     "output_type": "execute_result"
    },
    {
     "data": {
      "image/png": "[encoded data removed]",
      "text/plain": [
       "<Figure size 432x288 with 1 Axes>"
      ]
     },
     "metadata": {
      "needs_background": "light"
     },
     "output_type": "display_data"
    }
   ],
   "source": [
    "x = ls_div_to_div_ret\n",
    "y = ls_div_ret\n",
    "plt.scatter(x, y)"
   ]
  },
  {
   "cell_type": "code",
   "execution_count": 345,
   "metadata": {
    "scrolled": true
   },
   "outputs": [
    {
     "data": {
      "text/plain": [
       "<matplotlib.collections.PathCollection at 0x2548a775898>"
      ]
     },
     "execution_count": 345,
     "metadata": {},
     "output_type": "execute_result"
    },
    {
     "data": {
      "image/png": "[encoded data removed]",
      "text/plain": [
       "<Figure size 432x288 with 1 Axes>"
      ]
     },
     "metadata": {
      "needs_background": "light"
     },
     "output_type": "display_data"
    }
   ],
   "source": [
    "###Price the day of a return is very slightly correlated to the dividend price, but has a loss on average.\n",
    "\n",
    "plt.scatter(np.array(d[d['SPY']['retd'] != 0]['SPY']['retd']), np.array(d[d['SPY']['retd'] != 0]['SPY']['retx']))"
   ]
  },
  {
   "cell_type": "code",
   "execution_count": 355,
   "metadata": {},
   "outputs": [
    {
     "data": {
      "text/plain": [
       "array([[ 1.        , -0.25238551],\n",
       "       [-0.25238551,  1.        ]])"
      ]
     },
     "execution_count": 355,
     "metadata": {},
     "output_type": "execute_result"
    }
   ],
   "source": [
    "np.corrcoef(np.array(d[d['SPY']['retd'] != 0]['SPY']['retd']), np.array(d[d['SPY']['retd'] != 0]['SPY']['retx']))"
   ]
  },
  {
   "cell_type": "code",
   "execution_count": 353,
   "metadata": {},
   "outputs": [
    {
     "data": {
      "text/plain": [
       "0.9942439051728797"
      ]
     },
     "execution_count": 353,
     "metadata": {},
     "output_type": "execute_result"
    }
   ],
   "source": [
    "d[d['SPY']['retd'] != 0]['SPY']['retx'].mean()"
   ]
  },
  {
   "cell_type": "code",
   "execution_count": 348,
   "metadata": {},
   "outputs": [
    {
     "data": {
      "text/plain": [
       "0.01044219807136065"
      ]
     },
     "execution_count": 348,
     "metadata": {},
     "output_type": "execute_result"
    }
   ],
   "source": [
    "np.array(d[d['SPY']['retd'] != 0]['SPY']['retx']).std()"
   ]
  },
  {
   "cell_type": "code",
   "execution_count": 208,
   "metadata": {},
   "outputs": [],
   "source": [
    "s_ls_div = []\n",
    "t_ls_div = []\n",
    "s_div_cnt = 1\n",
    "t_div_cnt = 1\n",
    "for x in d.iterrows():\n",
    "    if x[1]['SPY']['retd'] == 0:\n",
    "        s_div_cnt += 1\n",
    "    else:\n",
    "        s_ls_div.append(s_div_cnt)\n",
    "        s_div_cnt = 1\n",
    "    if x[1]['TLT']['retd'] == 0:\n",
    "        t_div_cnt += 1\n",
    "    else:\n",
    "        t_ls_div.append(t_div_cnt)\n",
    "        t_div_cnt = 1    "
   ]
  },
  {
   "cell_type": "code",
   "execution_count": 119,
   "metadata": {},
   "outputs": [],
   "source": [
    "s_ls_div_dt = []\n",
    "t_ls_div_dt = []\n",
    "s_div_cnt = 0\n",
    "t_div_cnt = 0\n",
    "for x in d.iterrows():\n",
    "    if x[1]['SPY']['retd'] != 0:\n",
    "        s_ls_div_dt.append(x[0])\n",
    "    if x[1]['TLT']['retd'] != 0:\n",
    "        t_ls_div_dt.append(x[0])\n"
   ]
  },
  {
   "cell_type": "code",
   "execution_count": 436,
   "metadata": {},
   "outputs": [],
   "source": [
    "###This is to get the dividends to create a model for predicting/simulating retd\n",
    "\n",
    "div_day_cumsum = np.cumsum(s_ls_div)\n",
    "start = 1\n",
    "cumret = 0\n",
    "ls_div_to_div_ret = []\n",
    "ls_div_ret = []\n",
    "ls_div_to_div_std = []\n",
    "\n",
    "for x in div_day_cumsum:\n",
    "    div_to_div_std = np.std((np.array(d.iloc[start-1:x-1]['SPY']['ret'])))\n",
    "    div_to_div_ret = (np.array(d.iloc[start-1:x-1]['SPY']['ret'])).prod()\n",
    "    spy_div = (d.iloc[x-1]['SPY']['retd'])\n",
    "    ls_div_to_div_std.append(div_to_div_std)\n",
    "    ls_div_to_div_ret.append(div_to_div_ret)\n",
    "    ls_div_ret.append(spy_div)\n",
    "    start=x\n",
    "    \n",
    "X = np.array([ls_div_to_div_ret,ls_div_to_div_std]).T\n",
    "y=ls_div_ret\n",
    "reg = LinearRegression().fit(X,y)"
   ]
  },
  {
   "cell_type": "code",
   "execution_count": 577,
   "metadata": {},
   "outputs": [],
   "source": [
    "###This simulates the retx, and uses that simulate price and dividend.\n",
    "\n",
    "\n",
    "\n",
    "retx_sim = d[d['SPY']['retd'] == 0]['SPY']['retx']\n",
    "retx_sim_mod = CircularBlockBootstrap(20, retx_sim)\n",
    "tot_sim = 10\n",
    "sim = np.zeros((4035, 3, tot_sim))\n",
    "count = 0\n",
    "for y in retx_sim_mod.bootstrap(tot_sim):\n",
    "    test = y[0][0]\n",
    "\n",
    "\n",
    "\n",
    "    div_day_cumsum = np.cumsum(s_ls_div)\n",
    "    start = 1\n",
    "    ls_of_div = np.array(d[d['SPY']['retd'] != 0]['SPY']['retd'])\n",
    "    ls_of_div_retx = np.array(d[d['SPY']['retd'] != 0]['SPY']['retx'])\n",
    "\n",
    "    ls_sim_div = []\n",
    "\n",
    "    test.index = retx_sim.index\n",
    "    for x in range(len(div_day_cumsum)):\n",
    "        cum_retx = np.array(test[start-1:div_day_cumsum[x]-1]).prod()\n",
    "        cum_std = np.array(test[start-1:div_day_cumsum[x]-1]).std()\n",
    "        pred_div = reg.predict(np.array([[cum_retx],[cum_std]]).T)\n",
    "        sim_div_idx = min(ls_of_div, key=lambda i:abs(i-pred_div))\n",
    "        sim_rx = ls_of_div_retx[np.where(ls_of_div==sim_div_idx)[0][0]]\n",
    "        test.loc[s_ls_div_dt[x]] = sim_rx\n",
    "        ls_sim_div.append(pred_div[0])\n",
    "        test = test.sort_index()\n",
    "        start=div_day_cumsum[x]\n",
    "\n",
    "    test[0] = 1\n",
    "    prc[0] = d.SPY.prc[0]\n",
    "    prc[1:] = test[1:].cumprod() * prc[0]\n",
    "\n",
    "\n",
    "\n",
    "    div_pay = test*0\n",
    "    div_dic = dict(zip(s_ls_div_dt, ls_sim_div)) \n",
    "    for i in s_ls_div_dt:\n",
    "        div_pay[i] = div_dic[i]\n",
    "\n",
    "    sim[:,:,count] = np.array([prc,test,div_pay]).T\n",
    "    count +=1\n",
    "    \n",
    "    \n"
   ]
  }
 ],
 "metadata": {
  "kernelspec": {
   "display_name": "Python 3",
   "language": "python",
   "name": "python3"
  },
  "language_info": {
   "codemirror_mode": {
    "name": "ipython",
    "version": 3
   },
   "file_extension": ".py",
   "mimetype": "text/x-python",
   "name": "python",
   "nbconvert_exporter": "python",
   "pygments_lexer": "ipython3",
   "version": "3.7.3"
  }
 },
 "nbformat": 4,
 "nbformat_minor": 2
}
