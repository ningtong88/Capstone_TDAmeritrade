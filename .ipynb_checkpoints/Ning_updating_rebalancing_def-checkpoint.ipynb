{
 "cells": [
  {
   "cell_type": "code",
   "execution_count": 1,
   "metadata": {},
   "outputs": [],
   "source": [
    "import wrds\n",
    "import pandas as pd\n",
    "import numpy as np\n",
    "import matplotlib.pyplot as plt\n",
    "import pickle\n",
    "from pypfopt.discrete_allocation import DiscreteAllocation, get_latest_prices\n",
    "import timeit"
   ]
  },
  {
   "cell_type": "code",
   "execution_count": 2,
   "metadata": {},
   "outputs": [],
   "source": [
    "with open('low_var_port.pkl', 'rb') as f: d = pickle.load(f)"
   ]
  },
  {
   "cell_type": "code",
   "execution_count": 3,
   "metadata": {},
   "outputs": [],
   "source": [
    "portfolio_weights = {'SPY':.5, 'TLT': .4, 'GLD': .1}"
   ]
  },
  {
   "cell_type": "code",
   "execution_count": 4,
   "metadata": {},
   "outputs": [],
   "source": [
    "\n",
    "def allocate_shares_continuous(data, portfolio_weights,initial_money = 10000000):\n",
    "    latest_prices = {}\n",
    "    shares = {}\n",
    "    date_start = data.index[0].date().isoformat()\n",
    "    for k in portfolio_weights.keys():\n",
    "        latest_prices[k] = data.loc[date_start][k]['prc']\n",
    "        shares[k] = initial_money*portfolio_weights[k]/latest_prices[k]\n",
    "    return shares, latest_prices, date_start"
   ]
  },
  {
   "cell_type": "code",
   "execution_count": 5,
   "metadata": {},
   "outputs": [],
   "source": [
    "def initialize_df_continuous(data, portfolio_weights,initial_money=1000000):\n",
    "    shares, latest_prices, date_start = allocate_shares_continuous(data, portfolio_weights,initial_money)\n",
    "    ls_trades = []\n",
    "    ls_tickers = []\n",
    "    ls_labels = ['shr chg', 'prc', 'csh chg', 'tot shr', 'tot bal', 'divflag', 'rebalflag']\n",
    "    for k in latest_prices.keys():\n",
    "        ls_trades = ls_trades + [shares[k], latest_prices[k], -shares[k]*latest_prices[k], shares[k], shares[k]*latest_prices[k],0, 0]\n",
    "        ls_tickers.append(k)\n",
    "    ls_trades_iterables = [ls_tickers, ls_labels]\n",
    "    trades_columns = pd.MultiIndex.from_product(ls_trades_iterables, names=['ticker', 'metric'])\n",
    "    df_trades_initial = pd.DataFrame(np.array([ls_trades]),columns=trades_columns, index = [date_start])\n",
    "    \n",
    "    #Initialize df_cash dataframe\n",
    "    df_cash_initial = pd.DataFrame(np.array([0]), columns = ['cash'], index = [date_start])\n",
    "    \n",
    "    #Initialize df_portfolio_detail dataframe\n",
    "    ls_port_det_int_labels = ['price', 'return', 'weight', 'shares', 'value']\n",
    "    ls_port_det_int_iterables = [ls_tickers, ls_port_det_int_labels]\n",
    "    columns = pd.MultiIndex.from_product(ls_port_det_int_iterables, names=['ticker', 'metric'])\n",
    "    df_portfolio_detail_initial = pd.DataFrame(columns=columns)\n",
    "\n",
    "    #Initialize df_portfolio_sum dataframe\n",
    "    ls_port_sum_labels = ['total_value', 'asset_value', 'cash', 'cash_pct']\n",
    "    df_portfolio_sum_initial = pd.DataFrame(columns=ls_port_sum_labels)\n",
    "\n",
    "\n",
    "\n",
    "    return df_trades_initial, df_cash_initial, df_portfolio_sum_initial, df_portfolio_detail_initial"
   ]
  },
  {
   "cell_type": "code",
   "execution_count": 10,
   "metadata": {},
   "outputs": [
    {
     "ename": "IndentationError",
     "evalue": "unindent does not match any outer indentation level (<tokenize>, line 79)",
     "output_type": "error",
     "traceback": [
      "\u001b[1;36m  File \u001b[1;32m\"<tokenize>\"\u001b[1;36m, line \u001b[1;32m79\u001b[0m\n\u001b[1;33m    arr_yesterday_prices = arr_latest_prices\u001b[0m\n\u001b[1;37m    ^\u001b[0m\n\u001b[1;31mIndentationError\u001b[0m\u001b[1;31m:\u001b[0m unindent does not match any outer indentation level\n"
     ]
    }
   ],
   "source": [
    "\n",
    "#Ning's rewrite\n",
    "df_trades, df_cash, df_portfolio_sum, df_portfolio_detail = initialize_df_continuous(d, portfolio_weights,initial_money= 1000000)\n",
    "arr_data_columns = d.columns.values\n",
    "arr_data = np.array(d)\n",
    "ls_prc_index = [x for x, y in enumerate(arr_data_columns) if y[1] == 'prc']\n",
    "ls_ret_index = [x for x, y in enumerate(arr_data_columns) if y[1] == 'ret']\n",
    "ls_tickers = list(set([y[0] for x, y in enumerate(arr_data_columns)]))\n",
    "arr_trades_columns = df_trades.columns.values\n",
    "arr_trades = np.append([[0]], np.array(df_trades), axis = 1)\n",
    "arr_cash = np.array(df_cash)\n",
    "arr_port_det = np.zeros([d.shape[0], df_portfolio_detail.shape[1]]) #Need to change back to data\n",
    "arr_port_sum = np.zeros([d.shape[0], df_portfolio_sum.shape[1]]) #Need to change back to data\n",
    "arr_portfolio_weights = np.array([i for i in portfolio_weights.values()])\n",
    "ls_trades_shr_index = [x+1 for x, y in enumerate(arr_trades_columns) if y[1] == 'tot shr']\n",
    "ls_purchase_price_index = [x+1 for x, y in enumerate(arr_trades_columns) if y[1] == 'prc']\n",
    "ls_purchase_price = np.array(arr_trades[-1][ls_purchase_price_index])\n",
    "arr_yesterday_prices =  arr_data[0][ls_prc_index]\n",
    "\n",
    "#This loop goes through the data set \"d\", which should be a daily time series of asset returns and prices.\n",
    "#Returns should be broken into returns including dividends, returns without dividends, and dividend only returns. \n",
    "arr_cur_shrs = np.array(arr_trades[-1][ls_trades_shr_index])\n",
    "cum_ret={}\n",
    "for k in range(len(ls_ret_index)):\n",
    "    cum_ret[k]=arr_data[:,ls_ret_index[k]].cumprod()\n",
    "\n",
    "    cum_ret_1= pd.DataFrame(data=cum_ret)\n",
    "    ls_purchase_price_1 = pd.DataFrame(data=ls_purchase_price[np.newaxis])\n",
    "    ls_purchase_price_2 = np.array(ls_purchase_price_1)\n",
    "    cum_ret_1.columns = ls_tickers\n",
    "    cum_ret_1.columns = [str(col) + '_cum_ret' for col in cum_ret_1.columns]\n",
    "    ls_purchase_price_1.columns = ls_tickers\n",
    "    ls_purchase_price_1.columns = [str(col) + '_pur_prc' for col in ls_purchase_price_1.columns]\n",
    "    num_rows, num_cols = arr_data.shape\n",
    "    ls_cum_ret_index = [x for x, y in enumerate(cum_ret_1)]\n",
    "    ls_cum_ret_index=[x+num_cols for x in ls_cum_ret_index]\n",
    "    cum_ret_2 = np.array(cum_ret_1)\n",
    "    arr_data_1 = np.concatenate([arr_data, cum_ret_2],axis=1)\n",
    "    #Since the cum_ret_2 keeps track of the cumulative returns and when we rebalance, the cumulative return\n",
    "    #needs to be reset to 1, so create an array to keep track the cumulative returns right before rebalancing,\n",
    "    #and this will be used to reset the cumulative returns.\n",
    "    cum_ret_tracking = cum_ret_2[1,:]\n",
    "    cum_ret_tracking[:]=1\n",
    "\n",
    "    count = 0\n",
    "    for row in arr_data_1:\n",
    "\n",
    "        tradeflag = 0\n",
    "        arr_divflag = np.zeros(len(ls_tickers))\n",
    "        arr_div_cash = np.zeros(len(ls_tickers))\n",
    "        arr_rebal = np.zeros(len(ls_tickers))\n",
    "        arr_new_shares = np.zeros(len(ls_tickers))\n",
    "        arr_leftover_cash = 0\n",
    "        arr_latest_prices = row[ls_prc_index]\n",
    "        arr_latest_ret = row[ls_cum_ret_index]\n",
    "\n",
    "        total_value = np.matmul(np.array(arr_latest_prices),arr_cur_shrs)+arr_cash[-1]\n",
    "        arr_asset_val = (arr_cur_shrs * arr_latest_prices)\n",
    "        arr_actual_weights = arr_asset_val/total_value\n",
    "        dev_weights = np.absolute((arr_actual_weights/arr_portfolio_weights)-1)\n",
    "\n",
    "        if trading_day_counter % 63 == 0 or np.amax(dev_weights) > 1:\n",
    "            tradeflag = 1\n",
    "            total_value = np.sum(ls_purchase_price_1 *arr_cur_shrs *arr_latest_ret/cum_ret_tracking)+arr_cash[-1]\n",
    "            cum_ret_tracking = arr_latest_ret\n",
    "            ls_purchase_price_2 = arr_latest_prices\n",
    "            arr_shares = (total_value*arr_portfolio_weights)/arr_latest_prices\n",
    "            arr_trade_add = np.array([count])\n",
    "            for i in range(len(ls_tickers)):\n",
    "                    arr_trade_add = np.append(arr_trade_add, np.array([arr_new_shares[i], arr_latest_prices[i], -arr_new_shares[i] * arr_latest_prices[i], arr_trades[-1][ls_trades_shr_index[i]]+arr_new_shares[i], (arr_trades[-1][ls_trades_shr_index[i]]+arr_new_shares[i])*arr_latest_prices[i], arr_divflag[i], tradeflag]))\n",
    "            arr_trades = np.append(arr_trades,[arr_trade_add], axis = 0)\n",
    "            arr_cash = np.append(arr_cash, [np.array(cash)], axis=0)\n",
    "            trading_day_counter=1\n",
    "            arr_cur_shrs = np.array(arr_trades[-1][ls_trades_shr_index])\n",
    "            arr_new_port_det = np.array([], dtype='f8')\n",
    "            arr_asset_val = (arr_cur_shrs * arr_latest_prices)     \n",
    "        else:\n",
    "            trading_day_counter += 1\n",
    "\n",
    "        arr_yesterday_prices = arr_latest_prices    \n",
    "\n",
    "        #Reaggregates all the data into the dataframe \"portfolio_detail\" and \"portfolio_sum\"\n",
    "\n",
    "        arr_new_port_det = np.array([], dtype='f8')\n",
    "        arr_asset_val = (arr_cur_shrs * arr_latest_prices)\n",
    "        total_asset_value = np.sum(arr_asset_val)\n",
    "        arr_actual_weights = arr_asset_val/total_value\n",
    "        ls_new_port_det = []\n",
    "        for i in range(len(ls_tickers)):\n",
    "\n",
    "            ls_new_port_det = ls_new_port_det + [arr_latest_prices[i], row[ls_ret_index[i]], arr_actual_weights[i], arr_cur_shrs[i], arr_asset_val[i]]\n",
    "\n",
    "        arr_port_det[count] = ls_new_port_det\n",
    "\n",
    "        arr_new_port_sum = [total_value, total_asset_value, arr_cash[-1].item(), arr_cash[-1].item()/(total_value)]\n",
    "\n",
    "        arr_port_sum[count] = arr_new_port_sum\n",
    "        count += 1\n",
    "    return arr_port_det, arr_port_sum, arr_trades, arr_cash"
   ]
  },
  {
   "cell_type": "code",
   "execution_count": 8,
   "metadata": {},
   "outputs": [
    {
     "ename": "NameError",
     "evalue": "name 'ls_purchase_price_1' is not defined",
     "output_type": "error",
     "traceback": [
      "\u001b[1;31m---------------------------------------------------------------------------\u001b[0m",
      "\u001b[1;31mNameError\u001b[0m                                 Traceback (most recent call last)",
      "\u001b[1;32m<ipython-input-8-e8ac1e7fca2d>\u001b[0m in \u001b[0;36m<module>\u001b[1;34m\u001b[0m\n\u001b[1;32m----> 1\u001b[1;33m \u001b[0mls_purchase_price_1\u001b[0m\u001b[1;33m\u001b[0m\u001b[1;33m\u001b[0m\u001b[0m\n\u001b[0m",
      "\u001b[1;31mNameError\u001b[0m: name 'ls_purchase_price_1' is not defined"
     ]
    }
   ],
   "source": [
    "ls_purchase_price_1"
   ]
  },
  {
   "cell_type": "code",
   "execution_count": null,
   "metadata": {},
   "outputs": [],
   "source": []
  }
 ],
 "metadata": {
  "kernelspec": {
   "display_name": "Python 3",
   "language": "python",
   "name": "python3"
  },
  "language_info": {
   "codemirror_mode": {
    "name": "ipython",
    "version": 3
   },
   "file_extension": ".py",
   "mimetype": "text/x-python",
   "name": "python",
   "nbconvert_exporter": "python",
   "pygments_lexer": "ipython3",
   "version": "3.7.3"
  }
 },
 "nbformat": 4,
 "nbformat_minor": 4
}
