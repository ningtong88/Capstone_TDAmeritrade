{
 "cells": [
  {
   "cell_type": "code",
   "execution_count": 136,
   "metadata": {},
   "outputs": [],
   "source": [
    "import wrds\n",
    "import pandas as pd\n",
    "import numpy as np\n",
    "import matplotlib.pyplot as plt\n",
    "import pickle\n",
    "from pypfopt.discrete_allocation import DiscreteAllocation, get_latest_prices\n",
    "import timeit"
   ]
  },
  {
   "cell_type": "code",
   "execution_count": 137,
   "metadata": {},
   "outputs": [],
   "source": [
    "with open('low_var_port.pkl', 'rb') as f: d = pickle.load(f)"
   ]
  },
  {
   "cell_type": "code",
   "execution_count": 138,
   "metadata": {},
   "outputs": [],
   "source": [
    "portfolio_weights = {'SPY':.5, 'TLT': .4, 'GLD': .1}"
   ]
  },
  {
   "cell_type": "code",
   "execution_count": 139,
   "metadata": {},
   "outputs": [],
   "source": [
    "def allocate_shares_continuous(data, portfolio_weights,initial_money = 10000000):\n",
    "    latest_prices = {}\n",
    "    shares = {}\n",
    "    date_start = data.index[0].date().isoformat()\n",
    "    for k in portfolio_weights.keys():\n",
    "        latest_prices[k] = data.loc[date_start][k]['prc']\n",
    "        shares[k] = initial_money*portfolio_weights[k]/latest_prices[k]\n",
    "    return shares, latest_prices, date_start"
   ]
  },
  {
   "cell_type": "code",
   "execution_count": 140,
   "metadata": {},
   "outputs": [],
   "source": [
    "def initialize_df_continuous(data, portfolio_weights,initial_money=1000000):\n",
    "    shares, latest_prices, date_start = allocate_shares_continuous(data, portfolio_weights,initial_money)\n",
    "    ls_trades = []\n",
    "    ls_tickers = []\n",
    "    ls_labels = ['shr chg', 'prc', 'csh chg', 'tot shr', 'tot bal', 'divflag', 'rebalflag']\n",
    "    for k in latest_prices.keys():\n",
    "        ls_trades = ls_trades + [shares[k], latest_prices[k], -shares[k]*latest_prices[k], shares[k], shares[k]*latest_prices[k],0, 0]\n",
    "        ls_tickers.append(k)\n",
    "    ls_trades_iterables = [ls_tickers, ls_labels]\n",
    "    trades_columns = pd.MultiIndex.from_product(ls_trades_iterables, names=['ticker', 'metric'])\n",
    "    df_trades_initial = pd.DataFrame(np.array([ls_trades]),columns=trades_columns, index = [date_start])\n",
    "    \n",
    "    #Initialize df_cash dataframe\n",
    "    df_cash_initial = pd.DataFrame(np.array([0]), columns = ['cash'], index = [date_start])\n",
    "    \n",
    "    #Initialize df_portfolio_detail dataframe\n",
    "    ls_port_det_int_labels = ['price', 'return', 'weight', 'shares', 'value']\n",
    "    ls_port_det_int_iterables = [ls_tickers, ls_port_det_int_labels]\n",
    "    columns = pd.MultiIndex.from_product(ls_port_det_int_iterables, names=['ticker', 'metric'])\n",
    "    df_portfolio_detail_initial = pd.DataFrame(columns=columns)\n",
    "\n",
    "    #Initialize df_portfolio_sum dataframe\n",
    "    ls_port_sum_labels = ['total_value', 'asset_value', 'cash', 'cash_pct']\n",
    "    df_portfolio_sum_initial = pd.DataFrame(columns=ls_port_sum_labels)\n",
    "\n",
    "\n",
    "\n",
    "    return df_trades_initial, df_cash_initial, df_portfolio_sum_initial, df_portfolio_detail_initial"
   ]
  },
  {
   "cell_type": "code",
   "execution_count": 111,
   "metadata": {},
   "outputs": [
    {
     "output_type": "stream",
     "name": "stdout",
     "text": [
      "{0: array([0.98888328, 0.99359951, 0.99511543, ..., 4.20650334, 4.21821847,\n       4.19954385]), 1: array([0.99201979, 0.99719006, 0.99842644, ..., 3.02774261, 3.05712722,\n       3.05331111]), 2: array([1.00901302, 1.01284362, 1.00833706, ..., 3.81951318, 3.78075696,\n       3.75552048])}\n"
     ]
    }
   ],
   "source": [
    "print (cum_ret)"
   ]
  },
  {
   "cell_type": "code",
   "execution_count": 112,
   "metadata": {},
   "outputs": [
    {
     "output_type": "execute_result",
     "data": {
      "text/plain": [
       "3.696648417"
      ]
     },
     "metadata": {},
     "execution_count": 112
    }
   ],
   "source": [
    "4.19954385*0.5+3.05331111*0.4+3.75552048*0.1"
   ]
  },
  {
   "cell_type": "code",
   "execution_count": 177,
   "metadata": {},
   "outputs": [],
   "source": [
    "#Ning's rewrite\n",
    "df_trades, df_cash, df_portfolio_sum, df_portfolio_detail = initialize_df_continuous(d, portfolio_weights,initial_money= 1000000)\n",
    "arr_data_columns = d.columns.values\n",
    "arr_data = np.array(d)\n",
    "ls_prc_index = [x for x, y in enumerate(arr_data_columns) if y[1] == 'prc']\n",
    "ls_ret_index = [x for x, y in enumerate(arr_data_columns) if y[1] == 'ret']\n",
    "#ticker flipped\n",
    "#ls_tickers = list(set([y[0] for x, y in enumerate(arr_data_columns)]))\n",
    "ls_tickers = []\n",
    "for i in temp:\n",
    "    if i not in ls_tickers:\n",
    "        ls_tickers.append(i)\n",
    "arr_trades_columns = df_trades.columns.values\n",
    "arr_trades = np.append([[0]], np.array(df_trades), axis = 1)\n",
    "#arr_cash = np.array(df_cash)\n",
    "#change arr_cash to 0 as temp\n",
    "arr_cash=[0]\n",
    "arr_port_det = np.zeros([d.shape[0], df_portfolio_detail.shape[1]]) #Need to change back to data\n",
    "arr_port_sum = np.zeros([d.shape[0], df_portfolio_sum.shape[1]]) #Need to change back to data\n",
    "arr_portfolio_weights = np.array([i for i in portfolio_weights.values()])\n",
    "ls_trades_shr_index = [x+1 for x, y in enumerate(arr_trades_columns) if y[1] == 'tot shr']\n",
    "ls_purchase_price_index = [x+1 for x, y in enumerate(arr_trades_columns) if y[1] == 'prc']\n",
    "ls_purchase_price = np.array(arr_trades[-1][ls_purchase_price_index])\n",
    "arr_yesterday_prices =  arr_data[0][ls_prc_index]\n",
    "\n",
    "#This loop goes through the data set \"d\", which should be a daily time series of asset returns and prices.\n",
    "#Returns should be broken into returns including dividends, returns without dividends, and dividend only returns. \n",
    "arr_cur_shrs = np.array(arr_trades[-1][ls_trades_shr_index])\n",
    "cum_ret={}\n",
    "for k in range(len(ls_ret_index)):\n",
    "    cum_ret[k]=arr_data[:,ls_ret_index[k]].cumprod()\n",
    "    \n",
    "cum_ret_1= pd.DataFrame(data=cum_ret)\n",
    "ls_purchase_price_1 = pd.DataFrame(data=ls_purchase_price[np.newaxis])\n",
    "ls_purchase_price_2 = np.array(ls_purchase_price_1)\n",
    "cum_ret_1.columns = ls_tickers\n",
    "cum_ret_1.columns = [str(col) + '_cum_ret' for col in cum_ret_1.columns]\n",
    "ls_purchase_price_1.columns = ls_tickers\n",
    "ls_purchase_price_1.columns = [str(col) + '_pur_prc' for col in ls_purchase_price_1.columns]\n",
    "num_rows, num_cols = arr_data.shape\n",
    "ls_cum_ret_index = [x for x, y in enumerate(cum_ret_1)]\n",
    "ls_cum_ret_index=[x+num_cols for x in ls_cum_ret_index]\n",
    "cum_ret_2 = np.array(cum_ret_1)\n",
    "arr_data_1 = np.concatenate([arr_data, cum_ret_2],axis=1)\n",
    "#Since the cum_ret_2 keeps track of the cumulative returns and when we rebalance, the cumulative return\n",
    "#needs to be reset to 1, so create an array to keep track the cumulative returns right before rebalancing,\n",
    "#and this will be used to reset the cumulative returns.\n",
    "cum_ret_tracking = cum_ret_2[1,:]\n",
    "cum_ret_tracking[:]=1\n",
    "trading_day_counter=int()\n",
    "count = 0\n",
    "for row in arr_data_1:\n",
    "    tradeflag = 0\n",
    "    arr_divflag = np.zeros(len(ls_tickers))\n",
    "    arr_div_cash = np.zeros(len(ls_tickers))\n",
    "    arr_rebal = np.zeros(len(ls_tickers))\n",
    "    arr_new_shares = np.zeros(len(ls_tickers))\n",
    "    arr_leftover_cash = 0\n",
    "    arr_latest_prices = row[ls_prc_index]\n",
    "    arr_latest_ret = row[ls_cum_ret_index]\n",
    "    \n",
    "    #total_value = np.matmul(np.array(arr_latest_prices),arr_cur_shrs)+arr_cash[-1]\n",
    "    total_value = np.sum(ls_purchase_price_1 *arr_cur_shrs *arr_latest_ret/cum_ret_tracking)+arr_cash[-1]\n",
    "    arr_asset_val = (arr_cur_shrs * arr_latest_prices)\n",
    "    #arr_actual_weights = arr_asset_val/total_value\n",
    "    arr_actual_weights = total_value/np.sum(total_value)\n",
    "    dev_weights = np.absolute((arr_actual_weights/arr_portfolio_weights)-1)\n",
    "\n",
    "    if trading_day_counter % 25 == 0 or np.amax(dev_weights) > 1:\n",
    "    #if trading_day_counter % 63000 == 0 or np.amax(dev_weights) > 100:\n",
    "        tradeflag = 1\n",
    "        #total_value = np.sum(ls_purchase_price_1 *arr_cur_shrs *arr_latest_ret/cum_ret_tracking)+arr_cash[-1]\n",
    "        tot_val = np.sum(total_value)\n",
    "        cum_ret_tracking = arr_latest_ret\n",
    "        ls_purchase_price_2 = arr_latest_prices\n",
    "        arr_shares = (total_value*arr_portfolio_weights)/arr_latest_prices\n",
    "        arr_trade_add = np.array([count])\n",
    "        for i in range(len(ls_tickers)):\n",
    "                arr_trade_add = np.append(arr_trade_add, np.array([arr_new_shares[i], arr_latest_prices[i], -arr_new_shares[i] * arr_latest_prices[i], arr_trades[-1][ls_trades_shr_index[i]]+arr_new_shares[i], (arr_trades[-1][ls_trades_shr_index[i]]+arr_new_shares[i])*arr_latest_prices[i], arr_divflag[i], tradeflag]))\n",
    "        arr_trades = np.append(arr_trades,[arr_trade_add], axis = 0)\n",
    "        #arr_cash = np.append(arr_cash, [np.array(cash)], axis=0)\n",
    "        trading_day_counter=1\n",
    "        arr_cur_shrs = np.array(arr_trades[-1][ls_trades_shr_index])\n",
    "        arr_new_port_det = np.array([], dtype='f8')\n",
    "        arr_asset_val = (arr_cur_shrs * arr_latest_prices)     \n",
    "    else:\n",
    "        trading_day_counter += 1\n",
    "        \n",
    "    arr_yesterday_prices = arr_latest_prices    \n",
    "        \n",
    "    #Reaggregates all the data into the dataframe \"portfolio_detail\" and \"portfolio_sum\"\n",
    "    #total_value\n",
    "    arr_new_port_det = np.array([], dtype='f8')\n",
    "    arr_asset_val = (arr_cur_shrs * arr_latest_prices)\n",
    "    #total_asset_value = np.sum(arr_asset_val)\n",
    "    total_asset_value = np.sum(total_value)\n",
    "    #arr_actual_weights = arr_asset_val/total_value\n",
    "    arr_actual_weights = total_value/total_asset_value\n",
    "    ls_new_port_det = []\n",
    "    for i in range(len(ls_tickers)):\n",
    "        \n",
    "        ls_new_port_det = ls_new_port_det + [arr_latest_prices[i], row[ls_ret_index[i]], arr_actual_weights[i], arr_cur_shrs[i], arr_asset_val[i]]\n",
    "\n",
    "    arr_port_det[count] = ls_new_port_det\n",
    "    \n",
    "    #arr_new_port_sum = [total_value, total_asset_value, arr_cash[-1].item(), arr_cash[-1].item()/(total_value)]\n",
    "    arr_new_port_sum = [total_asset_value, total_asset_value,1,1]\n",
    "    \n",
    "    arr_port_sum[count] = arr_new_port_sum\n",
    "    count += 1\n",
    "                        #return arr_port_det, arr_port_sum, arr_trades, arr_cash\n"
   ]
  },
  {
   "cell_type": "code",
   "execution_count": 153,
   "metadata": {},
   "outputs": [
    {
     "output_type": "execute_result",
     "data": {
      "text/plain": [
       "GLD_pur_prc    508681.370215\n",
       "TLT_pur_prc    417010.084274\n",
       "SPY_pur_prc     96282.105454\n",
       "dtype: float64"
      ]
     },
     "metadata": {},
     "execution_count": 153
    }
   ],
   "source": [
    "total_value"
   ]
  },
  {
   "cell_type": "code",
   "execution_count": 152,
   "metadata": {},
   "outputs": [
    {
     "output_type": "execute_result",
     "data": {
      "text/plain": [
       "1029220.0163975"
      ]
     },
     "metadata": {},
     "execution_count": 152
    }
   ],
   "source": [
    "total_asset_value"
   ]
  },
  {
   "cell_type": "code",
   "execution_count": 122,
   "metadata": {},
   "outputs": [
    {
     "output_type": "execute_result",
     "data": {
      "text/plain": [
       "list"
      ]
     },
     "metadata": {},
     "execution_count": 122
    }
   ],
   "source": [
    "nparr_new_port_sum)"
   ]
  },
  {
   "cell_type": "code",
   "execution_count": null,
   "metadata": {},
   "outputs": [],
   "source": []
  },
  {
   "cell_type": "code",
   "execution_count": 155,
   "metadata": {},
   "outputs": [
    {
     "output_type": "execute_result",
     "data": {
      "text/plain": [
       "ticker              SPY                                                       \\\n",
       "metric          shr chg         prc   csh chg      tot shr   tot bal divflag   \n",
       "2004-11-19  4258.218428  117.419998 -500000.0  4258.218428  500000.0     0.0   \n",
       "\n",
       "ticker                        TLT                       ...                    \\\n",
       "metric     rebalflag      shr chg        prc   csh chg  ...   tot bal divflag   \n",
       "2004-11-19       0.0  4532.064246  88.260002 -400000.0  ...  400000.0     0.0   \n",
       "\n",
       "ticker                        GLD                                              \\\n",
       "metric     rebalflag      shr chg        prc   csh chg      tot shr   tot bal   \n",
       "2004-11-19       0.0  2233.139855  44.779999 -100000.0  2233.139855  100000.0   \n",
       "\n",
       "ticker                        \n",
       "metric     divflag rebalflag  \n",
       "2004-11-19     0.0       0.0  \n",
       "\n",
       "[1 rows x 21 columns]"
      ],
      "text/html": "<div>\n<style scoped>\n    .dataframe tbody tr th:only-of-type {\n        vertical-align: middle;\n    }\n\n    .dataframe tbody tr th {\n        vertical-align: top;\n    }\n\n    .dataframe thead tr th {\n        text-align: left;\n    }\n</style>\n<table border=\"1\" class=\"dataframe\">\n  <thead>\n    <tr>\n      <th>ticker</th>\n      <th colspan=\"7\" halign=\"left\">SPY</th>\n      <th colspan=\"7\" halign=\"left\">TLT</th>\n      <th colspan=\"7\" halign=\"left\">GLD</th>\n    </tr>\n    <tr>\n      <th>metric</th>\n      <th>shr chg</th>\n      <th>prc</th>\n      <th>csh chg</th>\n      <th>tot shr</th>\n      <th>tot bal</th>\n      <th>divflag</th>\n      <th>rebalflag</th>\n      <th>shr chg</th>\n      <th>prc</th>\n      <th>csh chg</th>\n      <th>...</th>\n      <th>tot bal</th>\n      <th>divflag</th>\n      <th>rebalflag</th>\n      <th>shr chg</th>\n      <th>prc</th>\n      <th>csh chg</th>\n      <th>tot shr</th>\n      <th>tot bal</th>\n      <th>divflag</th>\n      <th>rebalflag</th>\n    </tr>\n  </thead>\n  <tbody>\n    <tr>\n      <th>2004-11-19</th>\n      <td>4258.218428</td>\n      <td>117.419998</td>\n      <td>-500000.0</td>\n      <td>4258.218428</td>\n      <td>500000.0</td>\n      <td>0.0</td>\n      <td>0.0</td>\n      <td>4532.064246</td>\n      <td>88.260002</td>\n      <td>-400000.0</td>\n      <td>...</td>\n      <td>400000.0</td>\n      <td>0.0</td>\n      <td>0.0</td>\n      <td>2233.139855</td>\n      <td>44.779999</td>\n      <td>-100000.0</td>\n      <td>2233.139855</td>\n      <td>100000.0</td>\n      <td>0.0</td>\n      <td>0.0</td>\n    </tr>\n  </tbody>\n</table>\n<p>1 rows × 21 columns</p>\n</div>"
     },
     "metadata": {},
     "execution_count": 155
    }
   ],
   "source": [
    "df_trades"
   ]
  },
  {
   "cell_type": "code",
   "execution_count": 160,
   "metadata": {},
   "outputs": [
    {
     "output_type": "execute_result",
     "data": {
      "text/plain": [
       "   SPY_pur_prc  TLT_pur_prc  GLD_pur_prc\n",
       "0   117.419998    88.260002    44.779999"
      ],
      "text/html": "<div>\n<style scoped>\n    .dataframe tbody tr th:only-of-type {\n        vertical-align: middle;\n    }\n\n    .dataframe tbody tr th {\n        vertical-align: top;\n    }\n\n    .dataframe thead th {\n        text-align: right;\n    }\n</style>\n<table border=\"1\" class=\"dataframe\">\n  <thead>\n    <tr style=\"text-align: right;\">\n      <th></th>\n      <th>SPY_pur_prc</th>\n      <th>TLT_pur_prc</th>\n      <th>GLD_pur_prc</th>\n    </tr>\n  </thead>\n  <tbody>\n    <tr>\n      <th>0</th>\n      <td>117.419998</td>\n      <td>88.260002</td>\n      <td>44.779999</td>\n    </tr>\n  </tbody>\n</table>\n</div>"
     },
     "metadata": {},
     "execution_count": 160
    }
   ],
   "source": [
    "ls_purchase_price_1"
   ]
  },
  {
   "cell_type": "code",
   "execution_count": 176,
   "metadata": {
    "tags": []
   },
   "outputs": [
    {
     "output_type": "execute_result",
     "data": {
      "text/plain": [
       "array([[9.92150857e+05, 9.92150857e+05, 1.00000000e+00, 1.00000000e+00],\n",
       "       [1.00484901e+06, 1.00484901e+06, 1.00000000e+00, 1.00000000e+00],\n",
       "       [1.00566739e+06, 1.00566739e+06, 1.00000000e+00, 1.00000000e+00],\n",
       "       ...,\n",
       "       [1.01112397e+06, 1.01112397e+06, 1.00000000e+00, 1.00000000e+00],\n",
       "       [1.00425986e+06, 1.00425986e+06, 1.00000000e+00, 1.00000000e+00],\n",
       "       [1.00087525e+06, 1.00087525e+06, 1.00000000e+00, 1.00000000e+00]])"
      ]
     },
     "metadata": {},
     "execution_count": 176
    }
   ],
   "source": [
    "arr_port_sum"
   ]
  },
  {
   "cell_type": "code",
   "execution_count": 88,
   "metadata": {},
   "outputs": [
    {
     "output_type": "execute_result",
     "data": {
      "text/plain": [
       "ticker              SPY                                                       \\\n",
       "metric          shr chg         prc   csh chg      tot shr   tot bal divflag   \n",
       "2004-11-19  4258.218428  117.419998 -500000.0  4258.218428  500000.0     0.0   \n",
       "\n",
       "ticker                        TLT                       ...                    \\\n",
       "metric     rebalflag      shr chg        prc   csh chg  ...   tot bal divflag   \n",
       "2004-11-19       0.0  4532.064246  88.260002 -400000.0  ...  400000.0     0.0   \n",
       "\n",
       "ticker                        GLD                                              \\\n",
       "metric     rebalflag      shr chg        prc   csh chg      tot shr   tot bal   \n",
       "2004-11-19       0.0  2233.139855  44.779999 -100000.0  2233.139855  100000.0   \n",
       "\n",
       "ticker                        \n",
       "metric     divflag rebalflag  \n",
       "2004-11-19     0.0       0.0  \n",
       "\n",
       "[1 rows x 21 columns]"
      ],
      "text/html": "<div>\n<style scoped>\n    .dataframe tbody tr th:only-of-type {\n        vertical-align: middle;\n    }\n\n    .dataframe tbody tr th {\n        vertical-align: top;\n    }\n\n    .dataframe thead tr th {\n        text-align: left;\n    }\n</style>\n<table border=\"1\" class=\"dataframe\">\n  <thead>\n    <tr>\n      <th>ticker</th>\n      <th colspan=\"7\" halign=\"left\">SPY</th>\n      <th colspan=\"7\" halign=\"left\">TLT</th>\n      <th colspan=\"7\" halign=\"left\">GLD</th>\n    </tr>\n    <tr>\n      <th>metric</th>\n      <th>shr chg</th>\n      <th>prc</th>\n      <th>csh chg</th>\n      <th>tot shr</th>\n      <th>tot bal</th>\n      <th>divflag</th>\n      <th>rebalflag</th>\n      <th>shr chg</th>\n      <th>prc</th>\n      <th>csh chg</th>\n      <th>...</th>\n      <th>tot bal</th>\n      <th>divflag</th>\n      <th>rebalflag</th>\n      <th>shr chg</th>\n      <th>prc</th>\n      <th>csh chg</th>\n      <th>tot shr</th>\n      <th>tot bal</th>\n      <th>divflag</th>\n      <th>rebalflag</th>\n    </tr>\n  </thead>\n  <tbody>\n    <tr>\n      <th>2004-11-19</th>\n      <td>4258.218428</td>\n      <td>117.419998</td>\n      <td>-500000.0</td>\n      <td>4258.218428</td>\n      <td>500000.0</td>\n      <td>0.0</td>\n      <td>0.0</td>\n      <td>4532.064246</td>\n      <td>88.260002</td>\n      <td>-400000.0</td>\n      <td>...</td>\n      <td>400000.0</td>\n      <td>0.0</td>\n      <td>0.0</td>\n      <td>2233.139855</td>\n      <td>44.779999</td>\n      <td>-100000.0</td>\n      <td>2233.139855</td>\n      <td>100000.0</td>\n      <td>0.0</td>\n      <td>0.0</td>\n    </tr>\n  </tbody>\n</table>\n<p>1 rows × 21 columns</p>\n</div>"
     },
     "metadata": {},
     "execution_count": 88
    }
   ],
   "source": [
    "df_trades"
   ]
  },
  {
   "cell_type": "code",
   "execution_count": 55,
   "metadata": {},
   "outputs": [],
   "source": [
    "ls_tickers = list(set([y[0] for x, y in enumerate(arr_data_columns)]))"
   ]
  },
  {
   "cell_type": "code",
   "execution_count": 59,
   "metadata": {},
   "outputs": [
    {
     "output_type": "execute_result",
     "data": {
      "text/plain": [
       "['GLD', 'TLT', 'SPY']"
      ]
     },
     "metadata": {},
     "execution_count": 59
    }
   ],
   "source": [
    "list(set([y[0] for x, y in enumerate(arr_data_columns)]))"
   ]
  },
  {
   "cell_type": "code",
   "execution_count": 67,
   "metadata": {},
   "outputs": [],
   "source": [
    "temp = list([y[0] for x, y in enumerate(arr_data_columns)])\n"
   ]
  },
  {
   "cell_type": "code",
   "execution_count": 76,
   "metadata": {},
   "outputs": [],
   "source": [
    "ls_tickers = []\n",
    "for i in temp:\n",
    "    if i not in ls_tickers:\n",
    "        ls_tickers.append(i)"
   ]
  },
  {
   "cell_type": "code",
   "execution_count": 92,
   "metadata": {},
   "outputs": [],
   "source": [
    "def array_to_dataframe(data, portfolio_weights, arr_port_det, arr_port_sum, arr_trades):\n",
    "    df_trades_initial, df_cash_initial, df_portfolio_sum_initial, df_portfolio_detail_initial = initialize_df(data, portfolio_weights,initial_money=10000000)\n",
    "    df_trades_index = data.index[list(arr_trades[:,0].astype(int))]\n",
    "    df_trades = pd.DataFrame(arr_trades[:,1:], index = df_trades_index, columns = df_trades_initial.columns)\n",
    "    df_portfolio_sum = pd.DataFrame(arr_port_sum, index = data.index, columns = df_portfolio_sum_initial.columns)\n",
    "    df_portfolio_detail = pd.DataFrame(arr_port_det, index = data.index, columns = df_portfolio_detail_initial.columns)\n",
    "    return df_portfolio_sum, df_portfolio_detail, df_trades"
   ]
  },
  {
   "cell_type": "code",
   "execution_count": 178,
   "metadata": {},
   "outputs": [],
   "source": [
    " df_portfolio_sum = pd.DataFrame(arr_port_sum, index = d.index)"
   ]
  },
  {
   "cell_type": "code",
   "execution_count": 106,
   "metadata": {},
   "outputs": [],
   "source": [
    " df_portfolio_detail = pd.DataFrame(arr_port_det, index = d.index)"
   ]
  },
  {
   "cell_type": "code",
   "execution_count": 162,
   "metadata": {},
   "outputs": [
    {
     "output_type": "execute_result",
     "data": {
      "text/plain": [
       "Empty DataFrame\n",
       "Columns: [(SPY, price), (SPY, return), (SPY, weight), (SPY, shares), (SPY, value), (TLT, price), (TLT, return), (TLT, weight), (TLT, shares), (TLT, value), (GLD, price), (GLD, return), (GLD, weight), (GLD, shares), (GLD, value)]\n",
       "Index: []"
      ],
      "text/html": "<div>\n<style scoped>\n    .dataframe tbody tr th:only-of-type {\n        vertical-align: middle;\n    }\n\n    .dataframe tbody tr th {\n        vertical-align: top;\n    }\n\n    .dataframe thead tr th {\n        text-align: left;\n    }\n</style>\n<table border=\"1\" class=\"dataframe\">\n  <thead>\n    <tr>\n      <th>ticker</th>\n      <th colspan=\"5\" halign=\"left\">SPY</th>\n      <th colspan=\"5\" halign=\"left\">TLT</th>\n      <th colspan=\"5\" halign=\"left\">GLD</th>\n    </tr>\n    <tr>\n      <th>metric</th>\n      <th>price</th>\n      <th>return</th>\n      <th>weight</th>\n      <th>shares</th>\n      <th>value</th>\n      <th>price</th>\n      <th>return</th>\n      <th>weight</th>\n      <th>shares</th>\n      <th>value</th>\n      <th>price</th>\n      <th>return</th>\n      <th>weight</th>\n      <th>shares</th>\n      <th>value</th>\n    </tr>\n  </thead>\n  <tbody>\n  </tbody>\n</table>\n</div>"
     },
     "metadata": {},
     "execution_count": 162
    }
   ],
   "source": [
    "df_portfolio_detail.head(50)"
   ]
  },
  {
   "cell_type": "code",
   "execution_count": 179,
   "metadata": {},
   "outputs": [
    {
     "output_type": "execute_result",
     "data": {
      "text/plain": [
       "                       0             1    2    3\n",
       "date                                            \n",
       "2004-11-19  9.921509e+05  9.921509e+05  1.0  1.0\n",
       "2004-11-22  1.004849e+06  1.004849e+06  1.0  1.0\n",
       "2004-11-23  1.005667e+06  1.005667e+06  1.0  1.0\n",
       "2004-11-24  1.007530e+06  1.007530e+06  1.0  1.0\n",
       "2004-11-26  1.005011e+06  1.005011e+06  1.0  1.0\n",
       "2004-11-29  9.987398e+05  9.987398e+05  1.0  1.0\n",
       "2004-11-30  9.967783e+05  9.967783e+05  1.0  1.0\n",
       "2004-12-01  1.002451e+06  1.002451e+06  1.0  1.0\n",
       "2004-12-02  1.000324e+06  1.000324e+06  1.0  1.0\n",
       "2004-12-03  1.007533e+06  1.007533e+06  1.0  1.0\n",
       "2004-12-06  1.007767e+06  1.007767e+06  1.0  1.0\n",
       "2004-12-07  1.003407e+06  1.003407e+06  1.0  1.0\n",
       "2004-12-08  1.010124e+06  1.010124e+06  1.0  1.0\n",
       "2004-12-09  1.008713e+06  1.008713e+06  1.0  1.0\n",
       "2004-12-10  1.009466e+06  1.009466e+06  1.0  1.0\n",
       "2004-12-13  1.015809e+06  1.015809e+06  1.0  1.0\n",
       "2004-12-14  1.018386e+06  1.018386e+06  1.0  1.0\n",
       "2004-12-15  1.023438e+06  1.023438e+06  1.0  1.0\n",
       "2004-12-16  1.016395e+06  1.016395e+06  1.0  1.0\n",
       "2004-12-17  1.013573e+06  1.013573e+06  1.0  1.0\n",
       "2004-12-20  1.014764e+06  1.014764e+06  1.0  1.0\n",
       "2004-12-21  1.019661e+06  1.019661e+06  1.0  1.0\n",
       "2004-12-22  1.019090e+06  1.019090e+06  1.0  1.0\n",
       "2004-12-23  1.018714e+06  1.018714e+06  1.0  1.0\n",
       "2004-12-27  1.014973e+06  1.014973e+06  1.0  1.0\n",
       "2004-12-28  1.017233e+06  1.017233e+06  1.0  1.0\n",
       "2004-12-29  9.987326e+05  9.987326e+05  1.0  1.0\n",
       "2004-12-30  1.000854e+06  1.000854e+06  1.0  1.0\n",
       "2004-12-31  1.002241e+06  1.002241e+06  1.0  1.0\n",
       "2005-01-03  9.990002e+05  9.990002e+05  1.0  1.0\n",
       "2005-01-04  9.876397e+05  9.876397e+05  1.0  1.0\n",
       "2005-01-05  9.866597e+05  9.866597e+05  1.0  1.0\n",
       "2005-01-06  9.882377e+05  9.882377e+05  1.0  1.0\n",
       "2005-01-07  9.877519e+05  9.877519e+05  1.0  1.0\n",
       "2005-01-10  9.909504e+05  9.909504e+05  1.0  1.0\n",
       "2005-01-11  9.905302e+05  9.905302e+05  1.0  1.0\n",
       "2005-01-12  9.935669e+05  9.935669e+05  1.0  1.0\n",
       "2005-01-13  9.935786e+05  9.935786e+05  1.0  1.0\n",
       "2005-01-14  9.954600e+05  9.954600e+05  1.0  1.0\n",
       "2005-01-18  1.001907e+06  1.001907e+06  1.0  1.0\n",
       "2005-01-19  9.978023e+05  9.978023e+05  1.0  1.0\n",
       "2005-01-20  9.956318e+05  9.956318e+05  1.0  1.0\n",
       "2005-01-21  9.942225e+05  9.942225e+05  1.0  1.0\n",
       "2005-01-24  9.951240e+05  9.951240e+05  1.0  1.0\n",
       "2005-01-25  9.913596e+05  9.913596e+05  1.0  1.0\n",
       "2005-01-26  9.945951e+05  9.945951e+05  1.0  1.0\n",
       "2005-01-27  9.944854e+05  9.944854e+05  1.0  1.0\n",
       "2005-01-28  9.988032e+05  9.988032e+05  1.0  1.0\n",
       "2005-01-31  1.001945e+06  1.001945e+06  1.0  1.0\n",
       "2005-02-01  1.004104e+06  1.004104e+06  1.0  1.0"
      ],
      "text/html": "<div>\n<style scoped>\n    .dataframe tbody tr th:only-of-type {\n        vertical-align: middle;\n    }\n\n    .dataframe tbody tr th {\n        vertical-align: top;\n    }\n\n    .dataframe thead th {\n        text-align: right;\n    }\n</style>\n<table border=\"1\" class=\"dataframe\">\n  <thead>\n    <tr style=\"text-align: right;\">\n      <th></th>\n      <th>0</th>\n      <th>1</th>\n      <th>2</th>\n      <th>3</th>\n    </tr>\n    <tr>\n      <th>date</th>\n      <th></th>\n      <th></th>\n      <th></th>\n      <th></th>\n    </tr>\n  </thead>\n  <tbody>\n    <tr>\n      <th>2004-11-19</th>\n      <td>9.921509e+05</td>\n      <td>9.921509e+05</td>\n      <td>1.0</td>\n      <td>1.0</td>\n    </tr>\n    <tr>\n      <th>2004-11-22</th>\n      <td>1.004849e+06</td>\n      <td>1.004849e+06</td>\n      <td>1.0</td>\n      <td>1.0</td>\n    </tr>\n    <tr>\n      <th>2004-11-23</th>\n      <td>1.005667e+06</td>\n      <td>1.005667e+06</td>\n      <td>1.0</td>\n      <td>1.0</td>\n    </tr>\n    <tr>\n      <th>2004-11-24</th>\n      <td>1.007530e+06</td>\n      <td>1.007530e+06</td>\n      <td>1.0</td>\n      <td>1.0</td>\n    </tr>\n    <tr>\n      <th>2004-11-26</th>\n      <td>1.005011e+06</td>\n      <td>1.005011e+06</td>\n      <td>1.0</td>\n      <td>1.0</td>\n    </tr>\n    <tr>\n      <th>2004-11-29</th>\n      <td>9.987398e+05</td>\n      <td>9.987398e+05</td>\n      <td>1.0</td>\n      <td>1.0</td>\n    </tr>\n    <tr>\n      <th>2004-11-30</th>\n      <td>9.967783e+05</td>\n      <td>9.967783e+05</td>\n      <td>1.0</td>\n      <td>1.0</td>\n    </tr>\n    <tr>\n      <th>2004-12-01</th>\n      <td>1.002451e+06</td>\n      <td>1.002451e+06</td>\n      <td>1.0</td>\n      <td>1.0</td>\n    </tr>\n    <tr>\n      <th>2004-12-02</th>\n      <td>1.000324e+06</td>\n      <td>1.000324e+06</td>\n      <td>1.0</td>\n      <td>1.0</td>\n    </tr>\n    <tr>\n      <th>2004-12-03</th>\n      <td>1.007533e+06</td>\n      <td>1.007533e+06</td>\n      <td>1.0</td>\n      <td>1.0</td>\n    </tr>\n    <tr>\n      <th>2004-12-06</th>\n      <td>1.007767e+06</td>\n      <td>1.007767e+06</td>\n      <td>1.0</td>\n      <td>1.0</td>\n    </tr>\n    <tr>\n      <th>2004-12-07</th>\n      <td>1.003407e+06</td>\n      <td>1.003407e+06</td>\n      <td>1.0</td>\n      <td>1.0</td>\n    </tr>\n    <tr>\n      <th>2004-12-08</th>\n      <td>1.010124e+06</td>\n      <td>1.010124e+06</td>\n      <td>1.0</td>\n      <td>1.0</td>\n    </tr>\n    <tr>\n      <th>2004-12-09</th>\n      <td>1.008713e+06</td>\n      <td>1.008713e+06</td>\n      <td>1.0</td>\n      <td>1.0</td>\n    </tr>\n    <tr>\n      <th>2004-12-10</th>\n      <td>1.009466e+06</td>\n      <td>1.009466e+06</td>\n      <td>1.0</td>\n      <td>1.0</td>\n    </tr>\n    <tr>\n      <th>2004-12-13</th>\n      <td>1.015809e+06</td>\n      <td>1.015809e+06</td>\n      <td>1.0</td>\n      <td>1.0</td>\n    </tr>\n    <tr>\n      <th>2004-12-14</th>\n      <td>1.018386e+06</td>\n      <td>1.018386e+06</td>\n      <td>1.0</td>\n      <td>1.0</td>\n    </tr>\n    <tr>\n      <th>2004-12-15</th>\n      <td>1.023438e+06</td>\n      <td>1.023438e+06</td>\n      <td>1.0</td>\n      <td>1.0</td>\n    </tr>\n    <tr>\n      <th>2004-12-16</th>\n      <td>1.016395e+06</td>\n      <td>1.016395e+06</td>\n      <td>1.0</td>\n      <td>1.0</td>\n    </tr>\n    <tr>\n      <th>2004-12-17</th>\n      <td>1.013573e+06</td>\n      <td>1.013573e+06</td>\n      <td>1.0</td>\n      <td>1.0</td>\n    </tr>\n    <tr>\n      <th>2004-12-20</th>\n      <td>1.014764e+06</td>\n      <td>1.014764e+06</td>\n      <td>1.0</td>\n      <td>1.0</td>\n    </tr>\n    <tr>\n      <th>2004-12-21</th>\n      <td>1.019661e+06</td>\n      <td>1.019661e+06</td>\n      <td>1.0</td>\n      <td>1.0</td>\n    </tr>\n    <tr>\n      <th>2004-12-22</th>\n      <td>1.019090e+06</td>\n      <td>1.019090e+06</td>\n      <td>1.0</td>\n      <td>1.0</td>\n    </tr>\n    <tr>\n      <th>2004-12-23</th>\n      <td>1.018714e+06</td>\n      <td>1.018714e+06</td>\n      <td>1.0</td>\n      <td>1.0</td>\n    </tr>\n    <tr>\n      <th>2004-12-27</th>\n      <td>1.014973e+06</td>\n      <td>1.014973e+06</td>\n      <td>1.0</td>\n      <td>1.0</td>\n    </tr>\n    <tr>\n      <th>2004-12-28</th>\n      <td>1.017233e+06</td>\n      <td>1.017233e+06</td>\n      <td>1.0</td>\n      <td>1.0</td>\n    </tr>\n    <tr>\n      <th>2004-12-29</th>\n      <td>9.987326e+05</td>\n      <td>9.987326e+05</td>\n      <td>1.0</td>\n      <td>1.0</td>\n    </tr>\n    <tr>\n      <th>2004-12-30</th>\n      <td>1.000854e+06</td>\n      <td>1.000854e+06</td>\n      <td>1.0</td>\n      <td>1.0</td>\n    </tr>\n    <tr>\n      <th>2004-12-31</th>\n      <td>1.002241e+06</td>\n      <td>1.002241e+06</td>\n      <td>1.0</td>\n      <td>1.0</td>\n    </tr>\n    <tr>\n      <th>2005-01-03</th>\n      <td>9.990002e+05</td>\n      <td>9.990002e+05</td>\n      <td>1.0</td>\n      <td>1.0</td>\n    </tr>\n    <tr>\n      <th>2005-01-04</th>\n      <td>9.876397e+05</td>\n      <td>9.876397e+05</td>\n      <td>1.0</td>\n      <td>1.0</td>\n    </tr>\n    <tr>\n      <th>2005-01-05</th>\n      <td>9.866597e+05</td>\n      <td>9.866597e+05</td>\n      <td>1.0</td>\n      <td>1.0</td>\n    </tr>\n    <tr>\n      <th>2005-01-06</th>\n      <td>9.882377e+05</td>\n      <td>9.882377e+05</td>\n      <td>1.0</td>\n      <td>1.0</td>\n    </tr>\n    <tr>\n      <th>2005-01-07</th>\n      <td>9.877519e+05</td>\n      <td>9.877519e+05</td>\n      <td>1.0</td>\n      <td>1.0</td>\n    </tr>\n    <tr>\n      <th>2005-01-10</th>\n      <td>9.909504e+05</td>\n      <td>9.909504e+05</td>\n      <td>1.0</td>\n      <td>1.0</td>\n    </tr>\n    <tr>\n      <th>2005-01-11</th>\n      <td>9.905302e+05</td>\n      <td>9.905302e+05</td>\n      <td>1.0</td>\n      <td>1.0</td>\n    </tr>\n    <tr>\n      <th>2005-01-12</th>\n      <td>9.935669e+05</td>\n      <td>9.935669e+05</td>\n      <td>1.0</td>\n      <td>1.0</td>\n    </tr>\n    <tr>\n      <th>2005-01-13</th>\n      <td>9.935786e+05</td>\n      <td>9.935786e+05</td>\n      <td>1.0</td>\n      <td>1.0</td>\n    </tr>\n    <tr>\n      <th>2005-01-14</th>\n      <td>9.954600e+05</td>\n      <td>9.954600e+05</td>\n      <td>1.0</td>\n      <td>1.0</td>\n    </tr>\n    <tr>\n      <th>2005-01-18</th>\n      <td>1.001907e+06</td>\n      <td>1.001907e+06</td>\n      <td>1.0</td>\n      <td>1.0</td>\n    </tr>\n    <tr>\n      <th>2005-01-19</th>\n      <td>9.978023e+05</td>\n      <td>9.978023e+05</td>\n      <td>1.0</td>\n      <td>1.0</td>\n    </tr>\n    <tr>\n      <th>2005-01-20</th>\n      <td>9.956318e+05</td>\n      <td>9.956318e+05</td>\n      <td>1.0</td>\n      <td>1.0</td>\n    </tr>\n    <tr>\n      <th>2005-01-21</th>\n      <td>9.942225e+05</td>\n      <td>9.942225e+05</td>\n      <td>1.0</td>\n      <td>1.0</td>\n    </tr>\n    <tr>\n      <th>2005-01-24</th>\n      <td>9.951240e+05</td>\n      <td>9.951240e+05</td>\n      <td>1.0</td>\n      <td>1.0</td>\n    </tr>\n    <tr>\n      <th>2005-01-25</th>\n      <td>9.913596e+05</td>\n      <td>9.913596e+05</td>\n      <td>1.0</td>\n      <td>1.0</td>\n    </tr>\n    <tr>\n      <th>2005-01-26</th>\n      <td>9.945951e+05</td>\n      <td>9.945951e+05</td>\n      <td>1.0</td>\n      <td>1.0</td>\n    </tr>\n    <tr>\n      <th>2005-01-27</th>\n      <td>9.944854e+05</td>\n      <td>9.944854e+05</td>\n      <td>1.0</td>\n      <td>1.0</td>\n    </tr>\n    <tr>\n      <th>2005-01-28</th>\n      <td>9.988032e+05</td>\n      <td>9.988032e+05</td>\n      <td>1.0</td>\n      <td>1.0</td>\n    </tr>\n    <tr>\n      <th>2005-01-31</th>\n      <td>1.001945e+06</td>\n      <td>1.001945e+06</td>\n      <td>1.0</td>\n      <td>1.0</td>\n    </tr>\n    <tr>\n      <th>2005-02-01</th>\n      <td>1.004104e+06</td>\n      <td>1.004104e+06</td>\n      <td>1.0</td>\n      <td>1.0</td>\n    </tr>\n  </tbody>\n</table>\n</div>"
     },
     "metadata": {},
     "execution_count": 179
    }
   ],
   "source": [
    "df_portfolio_sum.head(50)"
   ]
  }
 ],
 "metadata": {
  "kernelspec": {
   "display_name": "Python 3",
   "language": "python",
   "name": "python3"
  },
  "language_info": {
   "codemirror_mode": {
    "name": "ipython",
    "version": 3
   },
   "file_extension": ".py",
   "mimetype": "text/x-python",
   "name": "python",
   "nbconvert_exporter": "python",
   "pygments_lexer": "ipython3",
   "version": "3.7.3-final"
  }
 },
 "nbformat": 4,
 "nbformat_minor": 4
}